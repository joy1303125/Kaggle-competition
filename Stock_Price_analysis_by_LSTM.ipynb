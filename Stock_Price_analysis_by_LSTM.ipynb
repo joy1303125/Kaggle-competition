{
  "nbformat": 4,
  "nbformat_minor": 0,
  "metadata": {
    "colab": {
      "name": "Stock_Price_analysis_by_LSTM.ipynb",
      "provenance": [],
      "collapsed_sections": [],
      "authorship_tag": "ABX9TyPdeecA8WgVw15n5Dx0XZZ9",
      "include_colab_link": true
    },
    "kernelspec": {
      "name": "python3",
      "display_name": "Python 3"
    },
    "accelerator": "TPU"
  },
  "cells": [
    {
      "cell_type": "markdown",
      "metadata": {
        "id": "view-in-github",
        "colab_type": "text"
      },
      "source": [
        "<a href=\"https://colab.research.google.com/github/joy1303125/Basic-python-programming/blob/master/Stock_Price_analysis_by_LSTM.ipynb\" target=\"_parent\"><img src=\"https://colab.research.google.com/assets/colab-badge.svg\" alt=\"Open In Colab\"/></a>"
      ]
    },
    {
      "cell_type": "code",
      "metadata": {
        "colab": {
          "base_uri": "https://localhost:8080/",
          "height": 691
        },
        "id": "cdhoU1szKBMf",
        "outputId": "54d2a62c-ad3e-4d62-e128-b9cba8e538e0"
      },
      "source": [
        "!pip install yfinance\r\n",
        "import yfinance as yf\r\n",
        "import numpy as np\r\n",
        "import pandas as pd\r\n",
        "#define the ticker symbol\r\n",
        "tickerSymbol = 'TSLA'\r\n",
        "\r\n",
        "#get data on this ticker\r\n",
        "tickerData = yf.Ticker(tickerSymbol)\r\n",
        "\r\n",
        "#get the historical prices for this ticker\r\n",
        "tickerDf = tickerData.history(period='1d', start='2015-1-1', end='2020-12-1')\r\n",
        "\r\n",
        "#see your data\r\n",
        "tickerDf"
      ],
      "execution_count": 1,
      "outputs": [
        {
          "output_type": "stream",
          "text": [
            "Requirement already satisfied: yfinance in /usr/local/lib/python3.6/dist-packages (0.1.55)\n",
            "Requirement already satisfied: requests>=2.20 in /usr/local/lib/python3.6/dist-packages (from yfinance) (2.23.0)\n",
            "Requirement already satisfied: lxml>=4.5.1 in /usr/local/lib/python3.6/dist-packages (from yfinance) (4.6.2)\n",
            "Requirement already satisfied: multitasking>=0.0.7 in /usr/local/lib/python3.6/dist-packages (from yfinance) (0.0.9)\n",
            "Requirement already satisfied: numpy>=1.15 in /usr/local/lib/python3.6/dist-packages (from yfinance) (1.19.4)\n",
            "Requirement already satisfied: pandas>=0.24 in /usr/local/lib/python3.6/dist-packages (from yfinance) (1.1.5)\n",
            "Requirement already satisfied: urllib3!=1.25.0,!=1.25.1,<1.26,>=1.21.1 in /usr/local/lib/python3.6/dist-packages (from requests>=2.20->yfinance) (1.24.3)\n",
            "Requirement already satisfied: chardet<4,>=3.0.2 in /usr/local/lib/python3.6/dist-packages (from requests>=2.20->yfinance) (3.0.4)\n",
            "Requirement already satisfied: idna<3,>=2.5 in /usr/local/lib/python3.6/dist-packages (from requests>=2.20->yfinance) (2.10)\n",
            "Requirement already satisfied: certifi>=2017.4.17 in /usr/local/lib/python3.6/dist-packages (from requests>=2.20->yfinance) (2020.12.5)\n",
            "Requirement already satisfied: python-dateutil>=2.7.3 in /usr/local/lib/python3.6/dist-packages (from pandas>=0.24->yfinance) (2.8.1)\n",
            "Requirement already satisfied: pytz>=2017.2 in /usr/local/lib/python3.6/dist-packages (from pandas>=0.24->yfinance) (2018.9)\n",
            "Requirement already satisfied: six>=1.5 in /usr/local/lib/python3.6/dist-packages (from python-dateutil>=2.7.3->pandas>=0.24->yfinance) (1.15.0)\n"
          ],
          "name": "stdout"
        },
        {
          "output_type": "execute_result",
          "data": {
            "text/html": [
              "<div>\n",
              "<style scoped>\n",
              "    .dataframe tbody tr th:only-of-type {\n",
              "        vertical-align: middle;\n",
              "    }\n",
              "\n",
              "    .dataframe tbody tr th {\n",
              "        vertical-align: top;\n",
              "    }\n",
              "\n",
              "    .dataframe thead th {\n",
              "        text-align: right;\n",
              "    }\n",
              "</style>\n",
              "<table border=\"1\" class=\"dataframe\">\n",
              "  <thead>\n",
              "    <tr style=\"text-align: right;\">\n",
              "      <th></th>\n",
              "      <th>Open</th>\n",
              "      <th>High</th>\n",
              "      <th>Low</th>\n",
              "      <th>Close</th>\n",
              "      <th>Volume</th>\n",
              "      <th>Dividends</th>\n",
              "      <th>Stock Splits</th>\n",
              "    </tr>\n",
              "    <tr>\n",
              "      <th>Date</th>\n",
              "      <th></th>\n",
              "      <th></th>\n",
              "      <th></th>\n",
              "      <th></th>\n",
              "      <th></th>\n",
              "      <th></th>\n",
              "      <th></th>\n",
              "    </tr>\n",
              "  </thead>\n",
              "  <tbody>\n",
              "    <tr>\n",
              "      <th>2015-01-02</th>\n",
              "      <td>44.574001</td>\n",
              "      <td>44.650002</td>\n",
              "      <td>42.652000</td>\n",
              "      <td>43.862000</td>\n",
              "      <td>23822000</td>\n",
              "      <td>0</td>\n",
              "      <td>0.0</td>\n",
              "    </tr>\n",
              "    <tr>\n",
              "      <th>2015-01-05</th>\n",
              "      <td>42.910000</td>\n",
              "      <td>43.299999</td>\n",
              "      <td>41.431999</td>\n",
              "      <td>42.018002</td>\n",
              "      <td>26842500</td>\n",
              "      <td>0</td>\n",
              "      <td>0.0</td>\n",
              "    </tr>\n",
              "    <tr>\n",
              "      <th>2015-01-06</th>\n",
              "      <td>42.012001</td>\n",
              "      <td>42.840000</td>\n",
              "      <td>40.841999</td>\n",
              "      <td>42.256001</td>\n",
              "      <td>31309500</td>\n",
              "      <td>0</td>\n",
              "      <td>0.0</td>\n",
              "    </tr>\n",
              "    <tr>\n",
              "      <th>2015-01-07</th>\n",
              "      <td>42.669998</td>\n",
              "      <td>42.956001</td>\n",
              "      <td>41.956001</td>\n",
              "      <td>42.189999</td>\n",
              "      <td>14842000</td>\n",
              "      <td>0</td>\n",
              "      <td>0.0</td>\n",
              "    </tr>\n",
              "    <tr>\n",
              "      <th>2015-01-08</th>\n",
              "      <td>42.562000</td>\n",
              "      <td>42.759998</td>\n",
              "      <td>42.001999</td>\n",
              "      <td>42.124001</td>\n",
              "      <td>17212500</td>\n",
              "      <td>0</td>\n",
              "      <td>0.0</td>\n",
              "    </tr>\n",
              "    <tr>\n",
              "      <th>...</th>\n",
              "      <td>...</td>\n",
              "      <td>...</td>\n",
              "      <td>...</td>\n",
              "      <td>...</td>\n",
              "      <td>...</td>\n",
              "      <td>...</td>\n",
              "      <td>...</td>\n",
              "    </tr>\n",
              "    <tr>\n",
              "      <th>2020-11-23</th>\n",
              "      <td>503.500000</td>\n",
              "      <td>526.000000</td>\n",
              "      <td>501.790009</td>\n",
              "      <td>521.849976</td>\n",
              "      <td>50260300</td>\n",
              "      <td>0</td>\n",
              "      <td>0.0</td>\n",
              "    </tr>\n",
              "    <tr>\n",
              "      <th>2020-11-24</th>\n",
              "      <td>540.400024</td>\n",
              "      <td>559.989990</td>\n",
              "      <td>526.200012</td>\n",
              "      <td>555.380005</td>\n",
              "      <td>53648500</td>\n",
              "      <td>0</td>\n",
              "      <td>0.0</td>\n",
              "    </tr>\n",
              "    <tr>\n",
              "      <th>2020-11-25</th>\n",
              "      <td>550.059998</td>\n",
              "      <td>574.000000</td>\n",
              "      <td>545.369995</td>\n",
              "      <td>574.000000</td>\n",
              "      <td>48930200</td>\n",
              "      <td>0</td>\n",
              "      <td>0.0</td>\n",
              "    </tr>\n",
              "    <tr>\n",
              "      <th>2020-11-27</th>\n",
              "      <td>581.159973</td>\n",
              "      <td>598.780029</td>\n",
              "      <td>578.450012</td>\n",
              "      <td>585.760010</td>\n",
              "      <td>37561100</td>\n",
              "      <td>0</td>\n",
              "      <td>0.0</td>\n",
              "    </tr>\n",
              "    <tr>\n",
              "      <th>2020-11-30</th>\n",
              "      <td>602.210022</td>\n",
              "      <td>607.799988</td>\n",
              "      <td>554.510010</td>\n",
              "      <td>567.599976</td>\n",
              "      <td>63003100</td>\n",
              "      <td>0</td>\n",
              "      <td>0.0</td>\n",
              "    </tr>\n",
              "  </tbody>\n",
              "</table>\n",
              "<p>1489 rows × 7 columns</p>\n",
              "</div>"
            ],
            "text/plain": [
              "                  Open        High  ...  Dividends  Stock Splits\n",
              "Date                                ...                         \n",
              "2015-01-02   44.574001   44.650002  ...          0           0.0\n",
              "2015-01-05   42.910000   43.299999  ...          0           0.0\n",
              "2015-01-06   42.012001   42.840000  ...          0           0.0\n",
              "2015-01-07   42.669998   42.956001  ...          0           0.0\n",
              "2015-01-08   42.562000   42.759998  ...          0           0.0\n",
              "...                ...         ...  ...        ...           ...\n",
              "2020-11-23  503.500000  526.000000  ...          0           0.0\n",
              "2020-11-24  540.400024  559.989990  ...          0           0.0\n",
              "2020-11-25  550.059998  574.000000  ...          0           0.0\n",
              "2020-11-27  581.159973  598.780029  ...          0           0.0\n",
              "2020-11-30  602.210022  607.799988  ...          0           0.0\n",
              "\n",
              "[1489 rows x 7 columns]"
            ]
          },
          "metadata": {
            "tags": []
          },
          "execution_count": 1
        }
      ]
    },
    {
      "cell_type": "code",
      "metadata": {
        "colab": {
          "base_uri": "https://localhost:8080/",
          "height": 171
        },
        "id": "i5GgZGPudNEc",
        "outputId": "452fe7f1-e35c-4589-fbe7-c57063bac472"
      },
      "source": [
        "tickerDf.tail(3)"
      ],
      "execution_count": 2,
      "outputs": [
        {
          "output_type": "execute_result",
          "data": {
            "text/html": [
              "<div>\n",
              "<style scoped>\n",
              "    .dataframe tbody tr th:only-of-type {\n",
              "        vertical-align: middle;\n",
              "    }\n",
              "\n",
              "    .dataframe tbody tr th {\n",
              "        vertical-align: top;\n",
              "    }\n",
              "\n",
              "    .dataframe thead th {\n",
              "        text-align: right;\n",
              "    }\n",
              "</style>\n",
              "<table border=\"1\" class=\"dataframe\">\n",
              "  <thead>\n",
              "    <tr style=\"text-align: right;\">\n",
              "      <th></th>\n",
              "      <th>Open</th>\n",
              "      <th>High</th>\n",
              "      <th>Low</th>\n",
              "      <th>Close</th>\n",
              "      <th>Volume</th>\n",
              "      <th>Dividends</th>\n",
              "      <th>Stock Splits</th>\n",
              "    </tr>\n",
              "    <tr>\n",
              "      <th>Date</th>\n",
              "      <th></th>\n",
              "      <th></th>\n",
              "      <th></th>\n",
              "      <th></th>\n",
              "      <th></th>\n",
              "      <th></th>\n",
              "      <th></th>\n",
              "    </tr>\n",
              "  </thead>\n",
              "  <tbody>\n",
              "    <tr>\n",
              "      <th>2020-11-25</th>\n",
              "      <td>550.059998</td>\n",
              "      <td>574.000000</td>\n",
              "      <td>545.369995</td>\n",
              "      <td>574.000000</td>\n",
              "      <td>48930200</td>\n",
              "      <td>0</td>\n",
              "      <td>0.0</td>\n",
              "    </tr>\n",
              "    <tr>\n",
              "      <th>2020-11-27</th>\n",
              "      <td>581.159973</td>\n",
              "      <td>598.780029</td>\n",
              "      <td>578.450012</td>\n",
              "      <td>585.760010</td>\n",
              "      <td>37561100</td>\n",
              "      <td>0</td>\n",
              "      <td>0.0</td>\n",
              "    </tr>\n",
              "    <tr>\n",
              "      <th>2020-11-30</th>\n",
              "      <td>602.210022</td>\n",
              "      <td>607.799988</td>\n",
              "      <td>554.510010</td>\n",
              "      <td>567.599976</td>\n",
              "      <td>63003100</td>\n",
              "      <td>0</td>\n",
              "      <td>0.0</td>\n",
              "    </tr>\n",
              "  </tbody>\n",
              "</table>\n",
              "</div>"
            ],
            "text/plain": [
              "                  Open        High  ...  Dividends  Stock Splits\n",
              "Date                                ...                         \n",
              "2020-11-25  550.059998  574.000000  ...          0           0.0\n",
              "2020-11-27  581.159973  598.780029  ...          0           0.0\n",
              "2020-11-30  602.210022  607.799988  ...          0           0.0\n",
              "\n",
              "[3 rows x 7 columns]"
            ]
          },
          "metadata": {
            "tags": []
          },
          "execution_count": 2
        }
      ]
    },
    {
      "cell_type": "code",
      "metadata": {
        "colab": {
          "base_uri": "https://localhost:8080/",
          "height": 385
        },
        "id": "lnIcXQJFTssM",
        "outputId": "e83306fd-0bd7-4278-d37e-7115d93af982"
      },
      "source": [
        "tickerDf['Close'].plot(figsize=(16,6))"
      ],
      "execution_count": 3,
      "outputs": [
        {
          "output_type": "execute_result",
          "data": {
            "text/plain": [
              "<matplotlib.axes._subplots.AxesSubplot at 0x7f48164d5390>"
            ]
          },
          "metadata": {
            "tags": []
          },
          "execution_count": 3
        },
        {
          "output_type": "display_data",
          "data": {
            "image/png": "[encoded data removed]",
            "text/plain": [
              "<Figure size 1152x432 with 1 Axes>"
            ]
          },
          "metadata": {
            "tags": [],
            "needs_background": "light"
          }
        }
      ]
    },
    {
      "cell_type": "code",
      "metadata": {
        "colab": {
          "base_uri": "https://localhost:8080/",
          "height": 693
        },
        "id": "z45F3PWRWywq",
        "outputId": "4958676e-aae5-4001-d902-133936fbcde1"
      },
      "source": [
        "tickerDf.rolling(7).mean().head(20)"
      ],
      "execution_count": 4,
      "outputs": [
        {
          "output_type": "execute_result",
          "data": {
            "text/html": [
              "<div>\n",
              "<style scoped>\n",
              "    .dataframe tbody tr th:only-of-type {\n",
              "        vertical-align: middle;\n",
              "    }\n",
              "\n",
              "    .dataframe tbody tr th {\n",
              "        vertical-align: top;\n",
              "    }\n",
              "\n",
              "    .dataframe thead th {\n",
              "        text-align: right;\n",
              "    }\n",
              "</style>\n",
              "<table border=\"1\" class=\"dataframe\">\n",
              "  <thead>\n",
              "    <tr style=\"text-align: right;\">\n",
              "      <th></th>\n",
              "      <th>Open</th>\n",
              "      <th>High</th>\n",
              "      <th>Low</th>\n",
              "      <th>Close</th>\n",
              "      <th>Volume</th>\n",
              "      <th>Dividends</th>\n",
              "      <th>Stock Splits</th>\n",
              "    </tr>\n",
              "    <tr>\n",
              "      <th>Date</th>\n",
              "      <th></th>\n",
              "      <th></th>\n",
              "      <th></th>\n",
              "      <th></th>\n",
              "      <th></th>\n",
              "      <th></th>\n",
              "      <th></th>\n",
              "    </tr>\n",
              "  </thead>\n",
              "  <tbody>\n",
              "    <tr>\n",
              "      <th>2015-01-02</th>\n",
              "      <td>NaN</td>\n",
              "      <td>NaN</td>\n",
              "      <td>NaN</td>\n",
              "      <td>NaN</td>\n",
              "      <td>NaN</td>\n",
              "      <td>NaN</td>\n",
              "      <td>NaN</td>\n",
              "    </tr>\n",
              "    <tr>\n",
              "      <th>2015-01-05</th>\n",
              "      <td>NaN</td>\n",
              "      <td>NaN</td>\n",
              "      <td>NaN</td>\n",
              "      <td>NaN</td>\n",
              "      <td>NaN</td>\n",
              "      <td>NaN</td>\n",
              "      <td>NaN</td>\n",
              "    </tr>\n",
              "    <tr>\n",
              "      <th>2015-01-06</th>\n",
              "      <td>NaN</td>\n",
              "      <td>NaN</td>\n",
              "      <td>NaN</td>\n",
              "      <td>NaN</td>\n",
              "      <td>NaN</td>\n",
              "      <td>NaN</td>\n",
              "      <td>NaN</td>\n",
              "    </tr>\n",
              "    <tr>\n",
              "      <th>2015-01-07</th>\n",
              "      <td>NaN</td>\n",
              "      <td>NaN</td>\n",
              "      <td>NaN</td>\n",
              "      <td>NaN</td>\n",
              "      <td>NaN</td>\n",
              "      <td>NaN</td>\n",
              "      <td>NaN</td>\n",
              "    </tr>\n",
              "    <tr>\n",
              "      <th>2015-01-08</th>\n",
              "      <td>NaN</td>\n",
              "      <td>NaN</td>\n",
              "      <td>NaN</td>\n",
              "      <td>NaN</td>\n",
              "      <td>NaN</td>\n",
              "      <td>NaN</td>\n",
              "      <td>NaN</td>\n",
              "    </tr>\n",
              "    <tr>\n",
              "      <th>2015-01-09</th>\n",
              "      <td>NaN</td>\n",
              "      <td>NaN</td>\n",
              "      <td>NaN</td>\n",
              "      <td>NaN</td>\n",
              "      <td>NaN</td>\n",
              "      <td>NaN</td>\n",
              "      <td>NaN</td>\n",
              "    </tr>\n",
              "    <tr>\n",
              "      <th>2015-01-12</th>\n",
              "      <td>42.446000</td>\n",
              "      <td>42.770857</td>\n",
              "      <td>41.389428</td>\n",
              "      <td>42.032000</td>\n",
              "      <td>2.387450e+07</td>\n",
              "      <td>0.0</td>\n",
              "      <td>0.0</td>\n",
              "    </tr>\n",
              "    <tr>\n",
              "      <th>2015-01-13</th>\n",
              "      <td>41.887429</td>\n",
              "      <td>42.324000</td>\n",
              "      <td>41.036571</td>\n",
              "      <td>41.601715</td>\n",
              "      <td>2.366943e+07</td>\n",
              "      <td>0.0</td>\n",
              "      <td>0.0</td>\n",
              "    </tr>\n",
              "    <tr>\n",
              "      <th>2015-01-14</th>\n",
              "      <td>41.066857</td>\n",
              "      <td>41.715428</td>\n",
              "      <td>40.403428</td>\n",
              "      <td>41.104571</td>\n",
              "      <td>2.808614e+07</td>\n",
              "      <td>0.0</td>\n",
              "      <td>0.0</td>\n",
              "    </tr>\n",
              "    <tr>\n",
              "      <th>2015-01-15</th>\n",
              "      <td>40.622000</td>\n",
              "      <td>41.188286</td>\n",
              "      <td>39.997428</td>\n",
              "      <td>40.550000</td>\n",
              "      <td>2.733943e+07</td>\n",
              "      <td>0.0</td>\n",
              "      <td>0.0</td>\n",
              "    </tr>\n",
              "    <tr>\n",
              "      <th>2015-01-16</th>\n",
              "      <td>39.974857</td>\n",
              "      <td>40.608571</td>\n",
              "      <td>39.422285</td>\n",
              "      <td>40.039143</td>\n",
              "      <td>2.779286e+07</td>\n",
              "      <td>0.0</td>\n",
              "      <td>0.0</td>\n",
              "    </tr>\n",
              "    <tr>\n",
              "      <th>2015-01-20</th>\n",
              "      <td>39.433714</td>\n",
              "      <td>40.046286</td>\n",
              "      <td>38.766000</td>\n",
              "      <td>39.505143</td>\n",
              "      <td>2.855050e+07</td>\n",
              "      <td>0.0</td>\n",
              "      <td>0.0</td>\n",
              "    </tr>\n",
              "    <tr>\n",
              "      <th>2015-01-21</th>\n",
              "      <td>38.880286</td>\n",
              "      <td>39.723429</td>\n",
              "      <td>38.324571</td>\n",
              "      <td>39.216857</td>\n",
              "      <td>2.818243e+07</td>\n",
              "      <td>0.0</td>\n",
              "      <td>0.0</td>\n",
              "    </tr>\n",
              "    <tr>\n",
              "      <th>2015-01-22</th>\n",
              "      <td>38.707429</td>\n",
              "      <td>39.688286</td>\n",
              "      <td>38.208857</td>\n",
              "      <td>39.200000</td>\n",
              "      <td>2.687286e+07</td>\n",
              "      <td>0.0</td>\n",
              "      <td>0.0</td>\n",
              "    </tr>\n",
              "    <tr>\n",
              "      <th>2015-01-23</th>\n",
              "      <td>38.620857</td>\n",
              "      <td>39.570857</td>\n",
              "      <td>38.135143</td>\n",
              "      <td>39.115428</td>\n",
              "      <td>2.613093e+07</td>\n",
              "      <td>0.0</td>\n",
              "      <td>0.0</td>\n",
              "    </tr>\n",
              "    <tr>\n",
              "      <th>2015-01-26</th>\n",
              "      <td>39.078000</td>\n",
              "      <td>39.954286</td>\n",
              "      <td>38.593715</td>\n",
              "      <td>39.511429</td>\n",
              "      <td>2.018993e+07</td>\n",
              "      <td>0.0</td>\n",
              "      <td>0.0</td>\n",
              "    </tr>\n",
              "    <tr>\n",
              "      <th>2015-01-27</th>\n",
              "      <td>39.361714</td>\n",
              "      <td>40.305143</td>\n",
              "      <td>38.973715</td>\n",
              "      <td>39.914571</td>\n",
              "      <td>1.845029e+07</td>\n",
              "      <td>0.0</td>\n",
              "      <td>0.0</td>\n",
              "    </tr>\n",
              "    <tr>\n",
              "      <th>2015-01-28</th>\n",
              "      <td>39.802000</td>\n",
              "      <td>40.644571</td>\n",
              "      <td>39.224286</td>\n",
              "      <td>40.094572</td>\n",
              "      <td>1.812629e+07</td>\n",
              "      <td>0.0</td>\n",
              "      <td>0.0</td>\n",
              "    </tr>\n",
              "    <tr>\n",
              "      <th>2015-01-29</th>\n",
              "      <td>40.007714</td>\n",
              "      <td>40.983428</td>\n",
              "      <td>39.494571</td>\n",
              "      <td>40.473715</td>\n",
              "      <td>1.744407e+07</td>\n",
              "      <td>0.0</td>\n",
              "      <td>0.0</td>\n",
              "    </tr>\n",
              "    <tr>\n",
              "      <th>2015-01-30</th>\n",
              "      <td>40.419429</td>\n",
              "      <td>41.234571</td>\n",
              "      <td>39.879999</td>\n",
              "      <td>40.674572</td>\n",
              "      <td>1.662550e+07</td>\n",
              "      <td>0.0</td>\n",
              "      <td>0.0</td>\n",
              "    </tr>\n",
              "  </tbody>\n",
              "</table>\n",
              "</div>"
            ],
            "text/plain": [
              "                 Open       High  ...  Dividends  Stock Splits\n",
              "Date                              ...                         \n",
              "2015-01-02        NaN        NaN  ...        NaN           NaN\n",
              "2015-01-05        NaN        NaN  ...        NaN           NaN\n",
              "2015-01-06        NaN        NaN  ...        NaN           NaN\n",
              "2015-01-07        NaN        NaN  ...        NaN           NaN\n",
              "2015-01-08        NaN        NaN  ...        NaN           NaN\n",
              "2015-01-09        NaN        NaN  ...        NaN           NaN\n",
              "2015-01-12  42.446000  42.770857  ...        0.0           0.0\n",
              "2015-01-13  41.887429  42.324000  ...        0.0           0.0\n",
              "2015-01-14  41.066857  41.715428  ...        0.0           0.0\n",
              "2015-01-15  40.622000  41.188286  ...        0.0           0.0\n",
              "2015-01-16  39.974857  40.608571  ...        0.0           0.0\n",
              "2015-01-20  39.433714  40.046286  ...        0.0           0.0\n",
              "2015-01-21  38.880286  39.723429  ...        0.0           0.0\n",
              "2015-01-22  38.707429  39.688286  ...        0.0           0.0\n",
              "2015-01-23  38.620857  39.570857  ...        0.0           0.0\n",
              "2015-01-26  39.078000  39.954286  ...        0.0           0.0\n",
              "2015-01-27  39.361714  40.305143  ...        0.0           0.0\n",
              "2015-01-28  39.802000  40.644571  ...        0.0           0.0\n",
              "2015-01-29  40.007714  40.983428  ...        0.0           0.0\n",
              "2015-01-30  40.419429  41.234571  ...        0.0           0.0\n",
              "\n",
              "[20 rows x 7 columns]"
            ]
          },
          "metadata": {
            "tags": []
          },
          "execution_count": 4
        }
      ]
    },
    {
      "cell_type": "code",
      "metadata": {
        "colab": {
          "base_uri": "https://localhost:8080/",
          "height": 385
        },
        "id": "FEtk8YVBXBVe",
        "outputId": "a224d348-f9e1-4153-8530-ad9fc05c9f95"
      },
      "source": [
        "\r\n",
        "tickerDf['Close'].plot(figsize=(16,6))\r\n",
        "tickerDf.rolling(window=30).mean()['Close'].plot()"
      ],
      "execution_count": 5,
      "outputs": [
        {
          "output_type": "execute_result",
          "data": {
            "text/plain": [
              "<matplotlib.axes._subplots.AxesSubplot at 0x7f48150d3630>"
            ]
          },
          "metadata": {
            "tags": []
          },
          "execution_count": 5
        },
        {
          "output_type": "display_data",
          "data": {
            "image/png": "[encoded data removed]",
            "text/plain": [
              "<Figure size 1152x432 with 1 Axes>"
            ]
          },
          "metadata": {
            "tags": [],
            "needs_background": "light"
          }
        }
      ]
    },
    {
      "cell_type": "code",
      "metadata": {
        "colab": {
          "base_uri": "https://localhost:8080/",
          "height": 385
        },
        "id": "AVkPxrkYXQ7d",
        "outputId": "8ec7d2ea-86f0-425b-a699-518d73a8f127"
      },
      "source": [
        "tickerDf['Close: 30 Day Mean'] = tickerDf['Close'].rolling(window=30).mean()\r\n",
        "tickerDf[['Close','Close: 30 Day Mean']].plot(figsize=(16,6))"
      ],
      "execution_count": 6,
      "outputs": [
        {
          "output_type": "execute_result",
          "data": {
            "text/plain": [
              "<matplotlib.axes._subplots.AxesSubplot at 0x7f4814c1fba8>"
            ]
          },
          "metadata": {
            "tags": []
          },
          "execution_count": 6
        },
        {
          "output_type": "display_data",
          "data": {
            "image/png": "[encoded data removed]",
            "text/plain": [
              "<Figure size 1152x432 with 1 Axes>"
            ]
          },
          "metadata": {
            "tags": [],
            "needs_background": "light"
          }
        }
      ]
    },
    {
      "cell_type": "code",
      "metadata": {
        "colab": {
          "base_uri": "https://localhost:8080/",
          "height": 385
        },
        "id": "AbpGG6t8XYQ6",
        "outputId": "e9bb4d4e-e982-4c11-ca98-c8798a76a52e"
      },
      "source": [
        "tickerDf['Close'].expanding(min_periods=1).mean().plot(figsize=(16,6))"
      ],
      "execution_count": 7,
      "outputs": [
        {
          "output_type": "execute_result",
          "data": {
            "text/plain": [
              "<matplotlib.axes._subplots.AxesSubplot at 0x7f4814b7f5c0>"
            ]
          },
          "metadata": {
            "tags": []
          },
          "execution_count": 7
        },
        {
          "output_type": "display_data",
          "data": {
            "image/png": "[encoded data removed]",
            "text/plain": [
              "<Figure size 1152x432 with 1 Axes>"
            ]
          },
          "metadata": {
            "tags": [],
            "needs_background": "light"
          }
        }
      ]
    },
    {
      "cell_type": "code",
      "metadata": {
        "colab": {
          "base_uri": "https://localhost:8080/"
        },
        "id": "2uob9rQcKdD3",
        "outputId": "7edc9c9b-8428-47a3-e6d0-c2692e40bbb1"
      },
      "source": [
        "df1=tickerDf.reset_index()['Close']\r\n",
        "\r\n",
        "df1"
      ],
      "execution_count": 8,
      "outputs": [
        {
          "output_type": "execute_result",
          "data": {
            "text/plain": [
              "0        43.862000\n",
              "1        42.018002\n",
              "2        42.256001\n",
              "3        42.189999\n",
              "4        42.124001\n",
              "           ...    \n",
              "1484    521.849976\n",
              "1485    555.380005\n",
              "1486    574.000000\n",
              "1487    585.760010\n",
              "1488    567.599976\n",
              "Name: Close, Length: 1489, dtype: float64"
            ]
          },
          "metadata": {
            "tags": []
          },
          "execution_count": 8
        }
      ]
    },
    {
      "cell_type": "code",
      "metadata": {
        "colab": {
          "base_uri": "https://localhost:8080/"
        },
        "id": "v9D2JLeOKoXR",
        "outputId": "9b8fe12e-c924-427a-cf96-4e811a9d43d8"
      },
      "source": [
        "from sklearn.preprocessing import MinMaxScaler\r\n",
        "scaler=MinMaxScaler(feature_range=(0,1))\r\n",
        "df1=scaler.fit_transform(np.array(df1).reshape(-1,1))\r\n",
        "\r\n",
        "print(df1)\r\n",
        "print(df1.shape)\r\n",
        "df1.ndim"
      ],
      "execution_count": 9,
      "outputs": [
        {
          "output_type": "stream",
          "text": [
            "[[0.02715852]\n",
            " [0.02384808]\n",
            " [0.02427535]\n",
            " ...\n",
            " [0.97888786]\n",
            " [1.        ]\n",
            " [0.96739823]]\n",
            "(1489, 1)\n"
          ],
          "name": "stdout"
        },
        {
          "output_type": "execute_result",
          "data": {
            "text/plain": [
              "2"
            ]
          },
          "metadata": {
            "tags": []
          },
          "execution_count": 9
        }
      ]
    },
    {
      "cell_type": "code",
      "metadata": {
        "colab": {
          "base_uri": "https://localhost:8080/"
        },
        "id": "48HiCdrMKtB5",
        "outputId": "91e8f88f-1949-4314-c4f0-9485593ff687"
      },
      "source": [
        "features_set = []\r\n",
        "labels = []\r\n",
        "for i in range(60, len(df1)):\r\n",
        "    features_set.append(df1[i-60:i, 0])\r\n",
        "    labels.append(df1[i, 0])\r\n",
        "    if i<=61:\r\n",
        "        print(features_set)\r\n",
        "        print(labels)"
      ],
      "execution_count": 10,
      "outputs": [
        {
          "output_type": "stream",
          "text": [
            "[array([0.02715852, 0.02384808, 0.02427535, 0.02415686, 0.02403838,\n",
            "       0.02261654, 0.02101877, 0.02175123, 0.01760061, 0.0173062 ,\n",
            "       0.01773705, 0.01732774, 0.01899373, 0.02080693, 0.02068844,\n",
            "       0.02257705, 0.02237238, 0.01999907, 0.02209233, 0.02151785,\n",
            "       0.02415327, 0.02681742, 0.02688564, 0.02776172, 0.02645837,\n",
            "       0.02650145, 0.02607419, 0.02482111, 0.02125933, 0.02157889,\n",
            "       0.02178713, 0.02182663, 0.02442974, 0.02636861, 0.02286069,\n",
            "       0.02170096, 0.02157529, 0.02280684, 0.02142449, 0.01926661,\n",
            "       0.02006728, 0.02110135, 0.02045147, 0.01802789, 0.01695073,\n",
            "       0.01674967, 0.01797762, 0.01701896, 0.01616083, 0.01868135,\n",
            "       0.01833308, 0.02048019, 0.0186634 , 0.0195359 , 0.02009242,\n",
            "       0.02084284, 0.01817869, 0.01678198, 0.01483952, 0.01683943])]\n",
            "[0.01619314393739041]\n",
            "[array([0.02715852, 0.02384808, 0.02427535, 0.02415686, 0.02403838,\n",
            "       0.02261654, 0.02101877, 0.02175123, 0.01760061, 0.0173062 ,\n",
            "       0.01773705, 0.01732774, 0.01899373, 0.02080693, 0.02068844,\n",
            "       0.02257705, 0.02237238, 0.01999907, 0.02209233, 0.02151785,\n",
            "       0.02415327, 0.02681742, 0.02688564, 0.02776172, 0.02645837,\n",
            "       0.02650145, 0.02607419, 0.02482111, 0.02125933, 0.02157889,\n",
            "       0.02178713, 0.02182663, 0.02442974, 0.02636861, 0.02286069,\n",
            "       0.02170096, 0.02157529, 0.02280684, 0.02142449, 0.01926661,\n",
            "       0.02006728, 0.02110135, 0.02045147, 0.01802789, 0.01695073,\n",
            "       0.01674967, 0.01797762, 0.01701896, 0.01616083, 0.01868135,\n",
            "       0.01833308, 0.02048019, 0.0186634 , 0.0195359 , 0.02009242,\n",
            "       0.02084284, 0.01817869, 0.01678198, 0.01483952, 0.01683943]), array([0.02384808, 0.02427535, 0.02415686, 0.02403838, 0.02261654,\n",
            "       0.02101877, 0.02175123, 0.01760061, 0.0173062 , 0.01773705,\n",
            "       0.01732774, 0.01899373, 0.02080693, 0.02068844, 0.02257705,\n",
            "       0.02237238, 0.01999907, 0.02209233, 0.02151785, 0.02415327,\n",
            "       0.02681742, 0.02688564, 0.02776172, 0.02645837, 0.02650145,\n",
            "       0.02607419, 0.02482111, 0.02125933, 0.02157889, 0.02178713,\n",
            "       0.02182663, 0.02442974, 0.02636861, 0.02286069, 0.02170096,\n",
            "       0.02157529, 0.02280684, 0.02142449, 0.01926661, 0.02006728,\n",
            "       0.02110135, 0.02045147, 0.01802789, 0.01695073, 0.01674967,\n",
            "       0.01797762, 0.01701896, 0.01616083, 0.01868135, 0.01833308,\n",
            "       0.02048019, 0.0186634 , 0.0195359 , 0.02009242, 0.02084284,\n",
            "       0.01817869, 0.01678198, 0.01483952, 0.01683943, 0.01619314])]\n",
            "[0.01619314393739041, 0.01576946522835189]\n"
          ],
          "name": "stdout"
        }
      ]
    },
    {
      "cell_type": "code",
      "metadata": {
        "id": "JVEpfG69LCk3"
      },
      "source": [
        "features_set, labels = np.array(features_set), np.array(labels)"
      ],
      "execution_count": 11,
      "outputs": []
    },
    {
      "cell_type": "code",
      "metadata": {
        "id": "c5cn5dYvLCnq"
      },
      "source": [
        "features_set = np.reshape(features_set, (features_set.shape[0], features_set.shape[1], 1))"
      ],
      "execution_count": 12,
      "outputs": []
    },
    {
      "cell_type": "code",
      "metadata": {
        "id": "tM3a6HuGLCqe"
      },
      "source": [
        "from keras.models import Sequential\r\n",
        "from keras.layers import Dense\r\n",
        "from keras.layers import LSTM\r\n",
        "from keras.layers import Dropout"
      ],
      "execution_count": 13,
      "outputs": []
    },
    {
      "cell_type": "code",
      "metadata": {
        "id": "dbpP5M7ELCtK"
      },
      "source": [
        "model = Sequential()"
      ],
      "execution_count": 14,
      "outputs": []
    },
    {
      "cell_type": "code",
      "metadata": {
        "id": "zBymUHVhLQGT"
      },
      "source": [
        "model.add(LSTM(units=50, return_sequences=True, input_shape=(features_set.shape[1], 1)))"
      ],
      "execution_count": 15,
      "outputs": []
    },
    {
      "cell_type": "code",
      "metadata": {
        "id": "G3chP__bLTKm"
      },
      "source": [
        "model.add(Dropout(0.2))"
      ],
      "execution_count": 16,
      "outputs": []
    },
    {
      "cell_type": "code",
      "metadata": {
        "id": "t91FvV7SLTNg"
      },
      "source": [
        "\r\n",
        "model.add(LSTM(units=50, return_sequences=True))\r\n",
        "model.add(Dropout(0.2))\r\n",
        "\r\n",
        "model.add(LSTM(units=50, return_sequences=True))\r\n",
        "model.add(Dropout(0.2))\r\n",
        "\r\n",
        "model.add(LSTM(units=50))\r\n",
        "model.add(Dropout(0.2))"
      ],
      "execution_count": 17,
      "outputs": []
    },
    {
      "cell_type": "code",
      "metadata": {
        "id": "Ti5z5Id0LTQN"
      },
      "source": [
        "model.add(Dense(units = 1))"
      ],
      "execution_count": 18,
      "outputs": []
    },
    {
      "cell_type": "code",
      "metadata": {
        "id": "_p8eiEIELd0S"
      },
      "source": [
        "model.compile(optimizer = 'adam', loss = 'mean_squared_error')"
      ],
      "execution_count": 19,
      "outputs": []
    },
    {
      "cell_type": "code",
      "metadata": {
        "colab": {
          "base_uri": "https://localhost:8080/"
        },
        "id": "jzF9ejsILgQG",
        "outputId": "412b4cdd-3bed-4fce-99de-0849b8642a90"
      },
      "source": [
        "model.summary()"
      ],
      "execution_count": 20,
      "outputs": [
        {
          "output_type": "stream",
          "text": [
            "Model: \"sequential\"\n",
            "_________________________________________________________________\n",
            "Layer (type)                 Output Shape              Param #   \n",
            "=================================================================\n",
            "lstm (LSTM)                  (None, 60, 50)            10400     \n",
            "_________________________________________________________________\n",
            "dropout (Dropout)            (None, 60, 50)            0         \n",
            "_________________________________________________________________\n",
            "lstm_1 (LSTM)                (None, 60, 50)            20200     \n",
            "_________________________________________________________________\n",
            "dropout_1 (Dropout)          (None, 60, 50)            0         \n",
            "_________________________________________________________________\n",
            "lstm_2 (LSTM)                (None, 60, 50)            20200     \n",
            "_________________________________________________________________\n",
            "dropout_2 (Dropout)          (None, 60, 50)            0         \n",
            "_________________________________________________________________\n",
            "lstm_3 (LSTM)                (None, 50)                20200     \n",
            "_________________________________________________________________\n",
            "dropout_3 (Dropout)          (None, 50)                0         \n",
            "_________________________________________________________________\n",
            "dense (Dense)                (None, 1)                 51        \n",
            "=================================================================\n",
            "Total params: 71,051\n",
            "Trainable params: 71,051\n",
            "Non-trainable params: 0\n",
            "_________________________________________________________________\n"
          ],
          "name": "stdout"
        }
      ]
    },
    {
      "cell_type": "code",
      "metadata": {
        "colab": {
          "base_uri": "https://localhost:8080/"
        },
        "id": "W9p9T4n4LgTK",
        "outputId": "70df3808-18b1-4e38-f63d-d04a01b115b9"
      },
      "source": [
        "model.fit(features_set, labels, epochs = 100, batch_size = 32)"
      ],
      "execution_count": 21,
      "outputs": [
        {
          "output_type": "stream",
          "text": [
            "Epoch 1/100\n",
            "45/45 [==============================] - 11s 115ms/step - loss: 0.0146\n",
            "Epoch 2/100\n",
            "45/45 [==============================] - 5s 115ms/step - loss: 0.0016\n",
            "Epoch 3/100\n",
            "45/45 [==============================] - 5s 120ms/step - loss: 0.0018\n",
            "Epoch 4/100\n",
            "45/45 [==============================] - 5s 116ms/step - loss: 0.0020\n",
            "Epoch 5/100\n",
            "45/45 [==============================] - 5s 117ms/step - loss: 0.0012\n",
            "Epoch 6/100\n",
            "45/45 [==============================] - 5s 115ms/step - loss: 0.0017\n",
            "Epoch 7/100\n",
            "45/45 [==============================] - 5s 119ms/step - loss: 0.0017\n",
            "Epoch 8/100\n",
            "45/45 [==============================] - 5s 119ms/step - loss: 0.0015\n",
            "Epoch 9/100\n",
            "45/45 [==============================] - 5s 119ms/step - loss: 0.0013\n",
            "Epoch 10/100\n",
            "45/45 [==============================] - 5s 116ms/step - loss: 0.0014\n",
            "Epoch 11/100\n",
            "45/45 [==============================] - 5s 116ms/step - loss: 0.0019\n",
            "Epoch 12/100\n",
            "45/45 [==============================] - 5s 115ms/step - loss: 0.0012\n",
            "Epoch 13/100\n",
            "45/45 [==============================] - 5s 120ms/step - loss: 0.0016\n",
            "Epoch 14/100\n",
            "45/45 [==============================] - 5s 120ms/step - loss: 0.0013\n",
            "Epoch 15/100\n",
            "45/45 [==============================] - 6s 124ms/step - loss: 0.0012\n",
            "Epoch 16/100\n",
            "45/45 [==============================] - 6s 126ms/step - loss: 0.0010\n",
            "Epoch 17/100\n",
            "45/45 [==============================] - 5s 119ms/step - loss: 0.0012\n",
            "Epoch 18/100\n",
            "45/45 [==============================] - 5s 120ms/step - loss: 0.0012\n",
            "Epoch 19/100\n",
            "45/45 [==============================] - 6s 122ms/step - loss: 0.0012\n",
            "Epoch 20/100\n",
            "45/45 [==============================] - 6s 123ms/step - loss: 0.0013\n",
            "Epoch 21/100\n",
            "45/45 [==============================] - 5s 121ms/step - loss: 0.0011\n",
            "Epoch 22/100\n",
            "45/45 [==============================] - 5s 121ms/step - loss: 9.7716e-04\n",
            "Epoch 23/100\n",
            "45/45 [==============================] - 5s 121ms/step - loss: 0.0011\n",
            "Epoch 24/100\n",
            "45/45 [==============================] - 5s 122ms/step - loss: 8.4168e-04\n",
            "Epoch 25/100\n",
            "45/45 [==============================] - 6s 123ms/step - loss: 9.2527e-04\n",
            "Epoch 26/100\n",
            "45/45 [==============================] - 5s 121ms/step - loss: 0.0011\n",
            "Epoch 27/100\n",
            "45/45 [==============================] - 5s 121ms/step - loss: 9.9084e-04\n",
            "Epoch 28/100\n",
            "45/45 [==============================] - 5s 121ms/step - loss: 8.2347e-04\n",
            "Epoch 29/100\n",
            "45/45 [==============================] - 5s 120ms/step - loss: 7.5785e-04\n",
            "Epoch 30/100\n",
            "45/45 [==============================] - 5s 122ms/step - loss: 8.0786e-04\n",
            "Epoch 31/100\n",
            "45/45 [==============================] - 6s 123ms/step - loss: 7.6607e-04\n",
            "Epoch 32/100\n",
            "45/45 [==============================] - 6s 122ms/step - loss: 0.0010\n",
            "Epoch 33/100\n",
            "45/45 [==============================] - 6s 122ms/step - loss: 9.9756e-04\n",
            "Epoch 34/100\n",
            "45/45 [==============================] - 5s 120ms/step - loss: 6.6475e-04\n",
            "Epoch 35/100\n",
            "45/45 [==============================] - 5s 122ms/step - loss: 6.1918e-04\n",
            "Epoch 36/100\n",
            "45/45 [==============================] - 6s 123ms/step - loss: 6.9203e-04\n",
            "Epoch 37/100\n",
            "45/45 [==============================] - 5s 122ms/step - loss: 0.0010\n",
            "Epoch 38/100\n",
            "45/45 [==============================] - 6s 122ms/step - loss: 8.8603e-04\n",
            "Epoch 39/100\n",
            "45/45 [==============================] - 5s 122ms/step - loss: 6.3697e-04\n",
            "Epoch 40/100\n",
            "45/45 [==============================] - 6s 123ms/step - loss: 8.7407e-04\n",
            "Epoch 41/100\n",
            "45/45 [==============================] - 5s 121ms/step - loss: 7.8652e-04\n",
            "Epoch 42/100\n",
            "45/45 [==============================] - 5s 120ms/step - loss: 5.0745e-04\n",
            "Epoch 43/100\n",
            "45/45 [==============================] - 6s 123ms/step - loss: 8.3600e-04\n",
            "Epoch 44/100\n",
            "45/45 [==============================] - 6s 123ms/step - loss: 5.4910e-04\n",
            "Epoch 45/100\n",
            "45/45 [==============================] - 6s 123ms/step - loss: 8.1009e-04\n",
            "Epoch 46/100\n",
            "45/45 [==============================] - 6s 132ms/step - loss: 7.2475e-04\n",
            "Epoch 47/100\n",
            "45/45 [==============================] - 6s 124ms/step - loss: 8.0710e-04\n",
            "Epoch 48/100\n",
            "45/45 [==============================] - 6s 123ms/step - loss: 6.1409e-04\n",
            "Epoch 49/100\n",
            "45/45 [==============================] - 6s 123ms/step - loss: 7.7821e-04\n",
            "Epoch 50/100\n",
            "45/45 [==============================] - 6s 123ms/step - loss: 6.0363e-04\n",
            "Epoch 51/100\n",
            "45/45 [==============================] - 5s 121ms/step - loss: 6.5955e-04\n",
            "Epoch 52/100\n",
            "45/45 [==============================] - 6s 122ms/step - loss: 6.3175e-04\n",
            "Epoch 53/100\n",
            "45/45 [==============================] - 5s 122ms/step - loss: 7.5938e-04\n",
            "Epoch 54/100\n",
            "45/45 [==============================] - 6s 127ms/step - loss: 4.9809e-04\n",
            "Epoch 55/100\n",
            "45/45 [==============================] - 5s 122ms/step - loss: 0.0012\n",
            "Epoch 56/100\n",
            "45/45 [==============================] - 6s 123ms/step - loss: 6.2416e-04\n",
            "Epoch 57/100\n",
            "45/45 [==============================] - 5s 122ms/step - loss: 6.5792e-04\n",
            "Epoch 58/100\n",
            "45/45 [==============================] - 6s 123ms/step - loss: 5.9077e-04\n",
            "Epoch 59/100\n",
            "45/45 [==============================] - 6s 123ms/step - loss: 7.6757e-04\n",
            "Epoch 60/100\n",
            "45/45 [==============================] - 5s 121ms/step - loss: 8.3829e-04\n",
            "Epoch 61/100\n",
            "45/45 [==============================] - 6s 124ms/step - loss: 7.8783e-04\n",
            "Epoch 62/100\n",
            "45/45 [==============================] - 5s 122ms/step - loss: 4.2700e-04\n",
            "Epoch 63/100\n",
            "45/45 [==============================] - 6s 125ms/step - loss: 5.6042e-04\n",
            "Epoch 64/100\n",
            "45/45 [==============================] - 6s 129ms/step - loss: 8.0566e-04\n",
            "Epoch 65/100\n",
            "45/45 [==============================] - 6s 126ms/step - loss: 5.3602e-04\n",
            "Epoch 66/100\n",
            "45/45 [==============================] - 6s 123ms/step - loss: 5.2883e-04\n",
            "Epoch 67/100\n",
            "45/45 [==============================] - 6s 126ms/step - loss: 6.6963e-04\n",
            "Epoch 68/100\n",
            "45/45 [==============================] - 6s 126ms/step - loss: 6.5557e-04\n",
            "Epoch 69/100\n",
            "45/45 [==============================] - 6s 124ms/step - loss: 8.5694e-04\n",
            "Epoch 70/100\n",
            "45/45 [==============================] - 6s 123ms/step - loss: 6.0516e-04\n",
            "Epoch 71/100\n",
            "45/45 [==============================] - 6s 127ms/step - loss: 5.7433e-04\n",
            "Epoch 72/100\n",
            "45/45 [==============================] - 6s 126ms/step - loss: 4.9983e-04\n",
            "Epoch 73/100\n",
            "45/45 [==============================] - 6s 125ms/step - loss: 5.8146e-04\n",
            "Epoch 74/100\n",
            "45/45 [==============================] - 6s 125ms/step - loss: 5.3719e-04\n",
            "Epoch 75/100\n",
            "45/45 [==============================] - 6s 123ms/step - loss: 4.6092e-04\n",
            "Epoch 76/100\n",
            "45/45 [==============================] - 6s 122ms/step - loss: 8.8002e-04\n",
            "Epoch 77/100\n",
            "45/45 [==============================] - 6s 126ms/step - loss: 5.0490e-04\n",
            "Epoch 78/100\n",
            "45/45 [==============================] - 6s 123ms/step - loss: 5.3007e-04\n",
            "Epoch 79/100\n",
            "45/45 [==============================] - 6s 127ms/step - loss: 5.3207e-04\n",
            "Epoch 80/100\n",
            "45/45 [==============================] - 6s 123ms/step - loss: 4.9980e-04\n",
            "Epoch 81/100\n",
            "45/45 [==============================] - 6s 124ms/step - loss: 5.9066e-04\n",
            "Epoch 82/100\n",
            "45/45 [==============================] - 6s 123ms/step - loss: 4.2824e-04\n",
            "Epoch 83/100\n",
            "45/45 [==============================] - 6s 126ms/step - loss: 5.3648e-04\n",
            "Epoch 84/100\n",
            "45/45 [==============================] - 6s 125ms/step - loss: 5.0577e-04\n",
            "Epoch 85/100\n",
            "45/45 [==============================] - 6s 123ms/step - loss: 5.6485e-04\n",
            "Epoch 86/100\n",
            "45/45 [==============================] - 6s 123ms/step - loss: 6.5109e-04\n",
            "Epoch 87/100\n",
            "45/45 [==============================] - 6s 126ms/step - loss: 4.1748e-04\n",
            "Epoch 88/100\n",
            "45/45 [==============================] - 5s 122ms/step - loss: 5.6800e-04\n",
            "Epoch 89/100\n",
            "45/45 [==============================] - 6s 125ms/step - loss: 5.2962e-04\n",
            "Epoch 90/100\n",
            "45/45 [==============================] - 6s 123ms/step - loss: 5.8557e-04\n",
            "Epoch 91/100\n",
            "45/45 [==============================] - 5s 122ms/step - loss: 6.1722e-04\n",
            "Epoch 92/100\n",
            "45/45 [==============================] - 6s 123ms/step - loss: 5.8017e-04\n",
            "Epoch 93/100\n",
            "45/45 [==============================] - 6s 122ms/step - loss: 4.1186e-04\n",
            "Epoch 94/100\n",
            "45/45 [==============================] - 6s 125ms/step - loss: 4.9858e-04\n",
            "Epoch 95/100\n",
            "45/45 [==============================] - 6s 125ms/step - loss: 4.8562e-04\n",
            "Epoch 96/100\n",
            "45/45 [==============================] - 6s 124ms/step - loss: 6.5005e-04\n",
            "Epoch 97/100\n",
            "45/45 [==============================] - 6s 125ms/step - loss: 4.9115e-04\n",
            "Epoch 98/100\n",
            "45/45 [==============================] - 6s 122ms/step - loss: 6.1163e-04\n",
            "Epoch 99/100\n",
            "45/45 [==============================] - 6s 125ms/step - loss: 4.6217e-04\n",
            "Epoch 100/100\n",
            "45/45 [==============================] - 6s 128ms/step - loss: 8.6760e-04\n"
          ],
          "name": "stdout"
        },
        {
          "output_type": "execute_result",
          "data": {
            "text/plain": [
              "<tensorflow.python.keras.callbacks.History at 0x7f47cf8d9710>"
            ]
          },
          "metadata": {
            "tags": []
          },
          "execution_count": 21
        }
      ]
    },
    {
      "cell_type": "code",
      "metadata": {
        "colab": {
          "base_uri": "https://localhost:8080/",
          "height": 723
        },
        "id": "J7vfL2FUL217",
        "outputId": "08e482c8-4aca-44d4-e052-be84a94a4f77"
      },
      "source": [
        "\r\n",
        "tickerSymbol = 'TSLA'\r\n",
        "\r\n",
        "#get data on this ticker\r\n",
        "tickerData = yf.Ticker(tickerSymbol)\r\n",
        "\r\n",
        "#get the historical prices for this ticker\r\n",
        "tickerDf1 = tickerData.history(period='1d', start='2020-12-1', end='2020-12-31')\r\n",
        "\r\n",
        "#see your data\r\n",
        "tickerDf1"
      ],
      "execution_count": 22,
      "outputs": [
        {
          "output_type": "execute_result",
          "data": {
            "text/html": [
              "<div>\n",
              "<style scoped>\n",
              "    .dataframe tbody tr th:only-of-type {\n",
              "        vertical-align: middle;\n",
              "    }\n",
              "\n",
              "    .dataframe tbody tr th {\n",
              "        vertical-align: top;\n",
              "    }\n",
              "\n",
              "    .dataframe thead th {\n",
              "        text-align: right;\n",
              "    }\n",
              "</style>\n",
              "<table border=\"1\" class=\"dataframe\">\n",
              "  <thead>\n",
              "    <tr style=\"text-align: right;\">\n",
              "      <th></th>\n",
              "      <th>Open</th>\n",
              "      <th>High</th>\n",
              "      <th>Low</th>\n",
              "      <th>Close</th>\n",
              "      <th>Volume</th>\n",
              "      <th>Dividends</th>\n",
              "      <th>Stock Splits</th>\n",
              "    </tr>\n",
              "    <tr>\n",
              "      <th>Date</th>\n",
              "      <th></th>\n",
              "      <th></th>\n",
              "      <th></th>\n",
              "      <th></th>\n",
              "      <th></th>\n",
              "      <th></th>\n",
              "      <th></th>\n",
              "    </tr>\n",
              "  </thead>\n",
              "  <tbody>\n",
              "    <tr>\n",
              "      <th>2020-12-01</th>\n",
              "      <td>597.590027</td>\n",
              "      <td>597.849976</td>\n",
              "      <td>572.049988</td>\n",
              "      <td>584.760010</td>\n",
              "      <td>40382800</td>\n",
              "      <td>0</td>\n",
              "      <td>0</td>\n",
              "    </tr>\n",
              "    <tr>\n",
              "      <th>2020-12-02</th>\n",
              "      <td>556.440002</td>\n",
              "      <td>571.539978</td>\n",
              "      <td>541.210022</td>\n",
              "      <td>568.820007</td>\n",
              "      <td>47775700</td>\n",
              "      <td>0</td>\n",
              "      <td>0</td>\n",
              "    </tr>\n",
              "    <tr>\n",
              "      <th>2020-12-03</th>\n",
              "      <td>590.020020</td>\n",
              "      <td>598.969971</td>\n",
              "      <td>582.429993</td>\n",
              "      <td>593.380005</td>\n",
              "      <td>42552000</td>\n",
              "      <td>0</td>\n",
              "      <td>0</td>\n",
              "    </tr>\n",
              "    <tr>\n",
              "      <th>2020-12-04</th>\n",
              "      <td>591.010010</td>\n",
              "      <td>599.039978</td>\n",
              "      <td>585.500000</td>\n",
              "      <td>599.039978</td>\n",
              "      <td>29401300</td>\n",
              "      <td>0</td>\n",
              "      <td>0</td>\n",
              "    </tr>\n",
              "    <tr>\n",
              "      <th>2020-12-07</th>\n",
              "      <td>604.919983</td>\n",
              "      <td>648.789978</td>\n",
              "      <td>603.049988</td>\n",
              "      <td>641.760010</td>\n",
              "      <td>56309700</td>\n",
              "      <td>0</td>\n",
              "      <td>0</td>\n",
              "    </tr>\n",
              "    <tr>\n",
              "      <th>2020-12-08</th>\n",
              "      <td>625.510010</td>\n",
              "      <td>651.280029</td>\n",
              "      <td>618.500000</td>\n",
              "      <td>649.880005</td>\n",
              "      <td>64265000</td>\n",
              "      <td>0</td>\n",
              "      <td>0</td>\n",
              "    </tr>\n",
              "    <tr>\n",
              "      <th>2020-12-09</th>\n",
              "      <td>653.690002</td>\n",
              "      <td>654.320007</td>\n",
              "      <td>588.000000</td>\n",
              "      <td>604.479980</td>\n",
              "      <td>71291200</td>\n",
              "      <td>0</td>\n",
              "      <td>0</td>\n",
              "    </tr>\n",
              "    <tr>\n",
              "      <th>2020-12-10</th>\n",
              "      <td>574.369995</td>\n",
              "      <td>627.750000</td>\n",
              "      <td>566.340027</td>\n",
              "      <td>627.070007</td>\n",
              "      <td>67083200</td>\n",
              "      <td>0</td>\n",
              "      <td>0</td>\n",
              "    </tr>\n",
              "    <tr>\n",
              "      <th>2020-12-11</th>\n",
              "      <td>615.010010</td>\n",
              "      <td>624.000000</td>\n",
              "      <td>596.799988</td>\n",
              "      <td>609.989990</td>\n",
              "      <td>46475000</td>\n",
              "      <td>0</td>\n",
              "      <td>0</td>\n",
              "    </tr>\n",
              "    <tr>\n",
              "      <th>2020-12-14</th>\n",
              "      <td>619.000000</td>\n",
              "      <td>642.750000</td>\n",
              "      <td>610.200012</td>\n",
              "      <td>639.830017</td>\n",
              "      <td>52040600</td>\n",
              "      <td>0</td>\n",
              "      <td>0</td>\n",
              "    </tr>\n",
              "    <tr>\n",
              "      <th>2020-12-15</th>\n",
              "      <td>643.280029</td>\n",
              "      <td>646.900024</td>\n",
              "      <td>623.799988</td>\n",
              "      <td>633.250000</td>\n",
              "      <td>45223600</td>\n",
              "      <td>0</td>\n",
              "      <td>0</td>\n",
              "    </tr>\n",
              "    <tr>\n",
              "      <th>2020-12-16</th>\n",
              "      <td>628.229980</td>\n",
              "      <td>632.500000</td>\n",
              "      <td>605.000000</td>\n",
              "      <td>622.770020</td>\n",
              "      <td>42095800</td>\n",
              "      <td>0</td>\n",
              "      <td>0</td>\n",
              "    </tr>\n",
              "    <tr>\n",
              "      <th>2020-12-17</th>\n",
              "      <td>628.190002</td>\n",
              "      <td>658.820007</td>\n",
              "      <td>619.500000</td>\n",
              "      <td>655.900024</td>\n",
              "      <td>56270100</td>\n",
              "      <td>0</td>\n",
              "      <td>0</td>\n",
              "    </tr>\n",
              "    <tr>\n",
              "      <th>2020-12-18</th>\n",
              "      <td>668.900024</td>\n",
              "      <td>695.000000</td>\n",
              "      <td>628.539978</td>\n",
              "      <td>695.000000</td>\n",
              "      <td>222126200</td>\n",
              "      <td>0</td>\n",
              "      <td>0</td>\n",
              "    </tr>\n",
              "    <tr>\n",
              "      <th>2020-12-21</th>\n",
              "      <td>666.239990</td>\n",
              "      <td>668.500000</td>\n",
              "      <td>646.070007</td>\n",
              "      <td>649.859985</td>\n",
              "      <td>58045300</td>\n",
              "      <td>0</td>\n",
              "      <td>0</td>\n",
              "    </tr>\n",
              "    <tr>\n",
              "      <th>2020-12-22</th>\n",
              "      <td>648.000000</td>\n",
              "      <td>649.880005</td>\n",
              "      <td>614.229980</td>\n",
              "      <td>640.340027</td>\n",
              "      <td>51716000</td>\n",
              "      <td>0</td>\n",
              "      <td>0</td>\n",
              "    </tr>\n",
              "    <tr>\n",
              "      <th>2020-12-23</th>\n",
              "      <td>632.200012</td>\n",
              "      <td>651.500000</td>\n",
              "      <td>622.570007</td>\n",
              "      <td>645.979980</td>\n",
              "      <td>33173000</td>\n",
              "      <td>0</td>\n",
              "      <td>0</td>\n",
              "    </tr>\n",
              "    <tr>\n",
              "      <th>2020-12-24</th>\n",
              "      <td>642.989990</td>\n",
              "      <td>666.090027</td>\n",
              "      <td>641.000000</td>\n",
              "      <td>661.770020</td>\n",
              "      <td>22865600</td>\n",
              "      <td>0</td>\n",
              "      <td>0</td>\n",
              "    </tr>\n",
              "    <tr>\n",
              "      <th>2020-12-28</th>\n",
              "      <td>674.510010</td>\n",
              "      <td>681.400024</td>\n",
              "      <td>660.799988</td>\n",
              "      <td>663.690002</td>\n",
              "      <td>32278600</td>\n",
              "      <td>0</td>\n",
              "      <td>0</td>\n",
              "    </tr>\n",
              "    <tr>\n",
              "      <th>2020-12-29</th>\n",
              "      <td>661.000000</td>\n",
              "      <td>669.900024</td>\n",
              "      <td>655.000000</td>\n",
              "      <td>665.989990</td>\n",
              "      <td>22910800</td>\n",
              "      <td>0</td>\n",
              "      <td>0</td>\n",
              "    </tr>\n",
              "    <tr>\n",
              "      <th>2020-12-30</th>\n",
              "      <td>672.000000</td>\n",
              "      <td>696.599976</td>\n",
              "      <td>668.359985</td>\n",
              "      <td>694.780029</td>\n",
              "      <td>42846000</td>\n",
              "      <td>0</td>\n",
              "      <td>0</td>\n",
              "    </tr>\n",
              "  </tbody>\n",
              "</table>\n",
              "</div>"
            ],
            "text/plain": [
              "                  Open        High  ...  Dividends  Stock Splits\n",
              "Date                                ...                         \n",
              "2020-12-01  597.590027  597.849976  ...          0             0\n",
              "2020-12-02  556.440002  571.539978  ...          0             0\n",
              "2020-12-03  590.020020  598.969971  ...          0             0\n",
              "2020-12-04  591.010010  599.039978  ...          0             0\n",
              "2020-12-07  604.919983  648.789978  ...          0             0\n",
              "2020-12-08  625.510010  651.280029  ...          0             0\n",
              "2020-12-09  653.690002  654.320007  ...          0             0\n",
              "2020-12-10  574.369995  627.750000  ...          0             0\n",
              "2020-12-11  615.010010  624.000000  ...          0             0\n",
              "2020-12-14  619.000000  642.750000  ...          0             0\n",
              "2020-12-15  643.280029  646.900024  ...          0             0\n",
              "2020-12-16  628.229980  632.500000  ...          0             0\n",
              "2020-12-17  628.190002  658.820007  ...          0             0\n",
              "2020-12-18  668.900024  695.000000  ...          0             0\n",
              "2020-12-21  666.239990  668.500000  ...          0             0\n",
              "2020-12-22  648.000000  649.880005  ...          0             0\n",
              "2020-12-23  632.200012  651.500000  ...          0             0\n",
              "2020-12-24  642.989990  666.090027  ...          0             0\n",
              "2020-12-28  674.510010  681.400024  ...          0             0\n",
              "2020-12-29  661.000000  669.900024  ...          0             0\n",
              "2020-12-30  672.000000  696.599976  ...          0             0\n",
              "\n",
              "[21 rows x 7 columns]"
            ]
          },
          "metadata": {
            "tags": []
          },
          "execution_count": 22
        }
      ]
    },
    {
      "cell_type": "code",
      "metadata": {
        "colab": {
          "base_uri": "https://localhost:8080/"
        },
        "id": "RLL9lLyIL3EV",
        "outputId": "c976d500-c813-4acb-d58c-012e0dc5faea"
      },
      "source": [
        "real_stock_price =tickerDf1.iloc[:, 3:4].values\r\n",
        "real_stock_price"
      ],
      "execution_count": 38,
      "outputs": [
        {
          "output_type": "execute_result",
          "data": {
            "text/plain": [
              "array([[584.76000977],\n",
              "       [568.82000732],\n",
              "       [593.38000488],\n",
              "       [599.03997803],\n",
              "       [641.76000977],\n",
              "       [649.88000488],\n",
              "       [604.47998047],\n",
              "       [627.07000732],\n",
              "       [609.98999023],\n",
              "       [639.83001709],\n",
              "       [633.25      ],\n",
              "       [622.77001953],\n",
              "       [655.90002441],\n",
              "       [695.        ],\n",
              "       [649.85998535],\n",
              "       [640.34002686],\n",
              "       [645.97998047],\n",
              "       [661.77001953],\n",
              "       [663.69000244],\n",
              "       [665.98999023],\n",
              "       [694.7800293 ]])"
            ]
          },
          "metadata": {
            "tags": []
          },
          "execution_count": 38
        }
      ]
    },
    {
      "cell_type": "code",
      "metadata": {
        "colab": {
          "base_uri": "https://localhost:8080/"
        },
        "id": "U3OSC8HiL3HU",
        "outputId": "ae3311bf-750a-4571-cd77-b737b7948a84"
      },
      "source": [
        "test_set=tickerDf1['Close']\r\n",
        "test_set=pd.DataFrame(test_set)\r\n",
        "test_set.shape"
      ],
      "execution_count": 39,
      "outputs": [
        {
          "output_type": "execute_result",
          "data": {
            "text/plain": [
              "(21, 1)"
            ]
          },
          "metadata": {
            "tags": []
          },
          "execution_count": 39
        }
      ]
    },
    {
      "cell_type": "code",
      "metadata": {
        "id": "og_1PUbKnMFJ"
      },
      "source": [
        "from sklearn.preprocessing import MinMaxScaler\r\n",
        "scaler=MinMaxScaler(feature_range=(0,1))"
      ],
      "execution_count": 40,
      "outputs": []
    },
    {
      "cell_type": "code",
      "metadata": {
        "id": "0res0VCOL3JV"
      },
      "source": [
        "dataset_total = pd.concat((tickerDf['Close'], tickerDf1['Close']), axis = 0)\r\n",
        "inputs = dataset_total[len(dataset_total) - len(tickerDf1) - 60:].values\r\n",
        "inputs = inputs.reshape(-1,1)\r\n",
        "inputs = scaler.transform(inputs)\r\n",
        "\r\n"
      ],
      "execution_count": 43,
      "outputs": []
    },
    {
      "cell_type": "code",
      "metadata": {
        "id": "y1bZASp2tdBh"
      },
      "source": [
        "X_test = []\r\n",
        "for i in range(60, 81):\r\n",
        "    X_test.append(inputs[i-60:i, 0])\r\n",
        "X_test = np.array(X_test)\r\n",
        "X_test = np.reshape(X_test, (X_test.shape[0], X_test.shape[1], 1))\r\n",
        "predicted_stock_price = model.predict(X_test)\r\n",
        "predicted_stock_price1 = scaler.inverse_transform(predicted_stock_price)"
      ],
      "execution_count": 44,
      "outputs": []
    },
    {
      "cell_type": "code",
      "metadata": {
        "colab": {
          "base_uri": "https://localhost:8080/"
        },
        "id": "y1E4KF7emm_o",
        "outputId": "86e7da0d-1d86-4aa7-b2af-b87c047e380a"
      },
      "source": [
        "predicted_stock_price1=pd.DataFrame(predicted_stock_price1)\r\n",
        "predicted_stock_price1.info()"
      ],
      "execution_count": 45,
      "outputs": [
        {
          "output_type": "stream",
          "text": [
            "<class 'pandas.core.frame.DataFrame'>\n",
            "RangeIndex: 21 entries, 0 to 20\n",
            "Data columns (total 1 columns):\n",
            " #   Column  Non-Null Count  Dtype  \n",
            "---  ------  --------------  -----  \n",
            " 0   0       21 non-null     float32\n",
            "dtypes: float32(1)\n",
            "memory usage: 212.0 bytes\n"
          ],
          "name": "stdout"
        }
      ]
    },
    {
      "cell_type": "code",
      "metadata": {
        "colab": {
          "base_uri": "https://localhost:8080/",
          "height": 295
        },
        "id": "HFwEgoPumuo5",
        "outputId": "bd494244-e6d4-4c3c-e4bf-053d7d2f5ba3"
      },
      "source": [
        "import matplotlib.pyplot as plt\r\n",
        "plt.plot(real_stock_price, color = 'red', label = 'Real Google Stock Price')\r\n",
        "plt.plot(predicted_stock_price1, color = 'blue', label = 'Predicted Google Stock Price')\r\n",
        "plt.title('Google Stock Price Prediction')\r\n",
        "plt.xlabel('Time')\r\n",
        "plt.ylabel('Google Stock Price')\r\n",
        "plt.legend()\r\n",
        "plt.show()\r\n"
      ],
      "execution_count": 47,
      "outputs": [
        {
          "output_type": "display_data",
          "data": {
            "image/png": "[encoded data removed]",
            "text/plain": [
              "<Figure size 432x288 with 1 Axes>"
            ]
          },
          "metadata": {
            "tags": [],
            "needs_background": "light"
          }
        }
      ]
    },
    {
      "cell_type": "markdown",
      "metadata": {
        "id": "O4mImccFKvZe"
      },
      "source": [
        ""
      ]
    }
  ]
}