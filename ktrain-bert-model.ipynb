{
 "cells": [
  {
   "cell_type": "code",
   "execution_count": 1,
   "metadata": {
    "_cell_guid": "79c7e3d0-c299-4dcb-8224-4455121ee9b0",
    "_uuid": "d629ff2d2480ee46fbb7e2d37f6b5fab8052498a",
    "execution": {
     "iopub.execute_input": "2021-01-18T04:15:19.794432Z",
     "iopub.status.busy": "2021-01-18T04:15:19.793633Z",
     "iopub.status.idle": "2021-01-18T04:15:57.268191Z",
     "shell.execute_reply": "2021-01-18T04:15:57.267622Z"
    },
    "papermill": {
     "duration": 37.490797,
     "end_time": "2021-01-18T04:15:57.268302",
     "exception": false,
     "start_time": "2021-01-18T04:15:19.777505",
     "status": "completed"
    },
    "tags": []
   },
   "outputs": [
    {
     "name": "stdout",
     "output_type": "stream",
     "text": [
      "Collecting ktrain\r\n",
      "  Downloading ktrain-0.25.3.tar.gz (25.3 MB)\r\n",
      "\u001b[K     |████████████████████████████████| 25.3 MB 16.8 MB/s \r\n",
      "\u001b[?25hRequirement already satisfied: scikit-learn==0.23.2 in /opt/conda/lib/python3.7/site-packages (from ktrain) (0.23.2)\r\n",
      "Requirement already satisfied: matplotlib>=3.0.0 in /opt/conda/lib/python3.7/site-packages (from ktrain) (3.2.1)\r\n",
      "Requirement already satisfied: pandas>=1.0.1 in /opt/conda/lib/python3.7/site-packages (from ktrain) (1.1.5)\r\n",
      "Requirement already satisfied: fastprogress>=0.1.21 in /opt/conda/lib/python3.7/site-packages (from ktrain) (1.0.0)\r\n",
      "Requirement already satisfied: requests in /opt/conda/lib/python3.7/site-packages (from ktrain) (2.23.0)\r\n",
      "Requirement already satisfied: joblib in /opt/conda/lib/python3.7/site-packages (from ktrain) (0.14.1)\r\n",
      "Requirement already satisfied: packaging in /opt/conda/lib/python3.7/site-packages (from ktrain) (20.1)\r\n",
      "Requirement already satisfied: ipython in /opt/conda/lib/python3.7/site-packages (from ktrain) (7.13.0)\r\n",
      "Requirement already satisfied: jieba in /opt/conda/lib/python3.7/site-packages (from ktrain) (0.42.1)\r\n",
      "Requirement already satisfied: transformers<4.0,>=3.1.0 in /opt/conda/lib/python3.7/site-packages (from ktrain) (3.5.1)\r\n",
      "Requirement already satisfied: sentencepiece in /opt/conda/lib/python3.7/site-packages (from ktrain) (0.1.91)\r\n",
      "Requirement already satisfied: networkx>=2.3 in /opt/conda/lib/python3.7/site-packages (from ktrain) (2.4)\r\n",
      "Collecting cchardet\r\n",
      "  Downloading cchardet-2.1.7-cp37-cp37m-manylinux2010_x86_64.whl (263 kB)\r\n",
      "\u001b[K     |████████████████████████████████| 263 kB 25.6 MB/s \r\n",
      "\u001b[?25hRequirement already satisfied: numpy in /opt/conda/lib/python3.7/site-packages (from fastprogress>=0.1.21->ktrain) (1.18.5)\r\n",
      "Requirement already satisfied: prompt-toolkit!=3.0.0,!=3.0.1,<3.1.0,>=2.0.0 in /opt/conda/lib/python3.7/site-packages (from ipython->ktrain) (3.0.5)\r\n",
      "Requirement already satisfied: setuptools>=18.5 in /opt/conda/lib/python3.7/site-packages (from ipython->ktrain) (46.1.3.post20200325)\r\n",
      "Requirement already satisfied: pexpect in /opt/conda/lib/python3.7/site-packages (from ipython->ktrain) (4.8.0)\r\n",
      "Requirement already satisfied: backcall in /opt/conda/lib/python3.7/site-packages (from ipython->ktrain) (0.1.0)\r\n",
      "Requirement already satisfied: jedi>=0.10 in /opt/conda/lib/python3.7/site-packages (from ipython->ktrain) (0.15.2)\r\n",
      "Requirement already satisfied: decorator in /opt/conda/lib/python3.7/site-packages (from ipython->ktrain) (4.4.2)\r\n",
      "Requirement already satisfied: pickleshare in /opt/conda/lib/python3.7/site-packages (from ipython->ktrain) (0.7.5)\r\n",
      "Requirement already satisfied: pygments in /opt/conda/lib/python3.7/site-packages (from ipython->ktrain) (2.6.1)\r\n",
      "Requirement already satisfied: traitlets>=4.2 in /opt/conda/lib/python3.7/site-packages (from ipython->ktrain) (4.3.3)\r\n",
      "Requirement already satisfied: parso>=0.5.2 in /opt/conda/lib/python3.7/site-packages (from jedi>=0.10->ipython->ktrain) (0.5.2)\r\n",
      "Collecting keras_bert>=0.86.0\r\n",
      "  Downloading keras-bert-0.86.0.tar.gz (26 kB)\r\n",
      "Requirement already satisfied: numpy in /opt/conda/lib/python3.7/site-packages (from fastprogress>=0.1.21->ktrain) (1.18.5)\r\n",
      "Requirement already satisfied: Keras>=2.4.3 in /opt/conda/lib/python3.7/site-packages (from keras_bert>=0.86.0->ktrain) (2.4.3)\r\n",
      "Requirement already satisfied: scipy>=0.14 in /opt/conda/lib/python3.7/site-packages (from Keras>=2.4.3->keras_bert>=0.86.0->ktrain) (1.4.1)\r\n",
      "Requirement already satisfied: pyyaml in /opt/conda/lib/python3.7/site-packages (from Keras>=2.4.3->keras_bert>=0.86.0->ktrain) (5.3.1)\r\n",
      "Requirement already satisfied: numpy in /opt/conda/lib/python3.7/site-packages (from fastprogress>=0.1.21->ktrain) (1.18.5)\r\n",
      "Requirement already satisfied: h5py in /opt/conda/lib/python3.7/site-packages (from Keras>=2.4.3->keras_bert>=0.86.0->ktrain) (2.10.0)\r\n",
      "Requirement already satisfied: numpy in /opt/conda/lib/python3.7/site-packages (from fastprogress>=0.1.21->ktrain) (1.18.5)\r\n",
      "Requirement already satisfied: six in /opt/conda/lib/python3.7/site-packages (from h5py->Keras>=2.4.3->keras_bert>=0.86.0->ktrain) (1.14.0)\r\n",
      "Collecting keras-transformer>=0.38.0\r\n",
      "  Downloading keras-transformer-0.38.0.tar.gz (11 kB)\r\n",
      "Requirement already satisfied: numpy in /opt/conda/lib/python3.7/site-packages (from fastprogress>=0.1.21->ktrain) (1.18.5)\r\n",
      "Requirement already satisfied: Keras>=2.4.3 in /opt/conda/lib/python3.7/site-packages (from keras_bert>=0.86.0->ktrain) (2.4.3)\r\n",
      "Collecting keras-embed-sim>=0.8.0\r\n",
      "  Downloading keras-embed-sim-0.8.0.tar.gz (4.1 kB)\r\n",
      "Requirement already satisfied: numpy in /opt/conda/lib/python3.7/site-packages (from fastprogress>=0.1.21->ktrain) (1.18.5)\r\n",
      "Requirement already satisfied: Keras>=2.4.3 in /opt/conda/lib/python3.7/site-packages (from keras_bert>=0.86.0->ktrain) (2.4.3)\r\n",
      "Collecting keras-layer-normalization>=0.14.0\r\n",
      "  Downloading keras-layer-normalization-0.14.0.tar.gz (4.3 kB)\r\n",
      "Requirement already satisfied: numpy in /opt/conda/lib/python3.7/site-packages (from fastprogress>=0.1.21->ktrain) (1.18.5)\r\n",
      "Requirement already satisfied: Keras>=2.4.3 in /opt/conda/lib/python3.7/site-packages (from keras_bert>=0.86.0->ktrain) (2.4.3)\r\n",
      "Collecting keras-multi-head>=0.27.0\r\n",
      "  Downloading keras-multi-head-0.27.0.tar.gz (14 kB)\r\n",
      "Requirement already satisfied: numpy in /opt/conda/lib/python3.7/site-packages (from fastprogress>=0.1.21->ktrain) (1.18.5)\r\n",
      "Requirement already satisfied: Keras>=2.4.3 in /opt/conda/lib/python3.7/site-packages (from keras_bert>=0.86.0->ktrain) (2.4.3)\r\n",
      "Collecting keras-pos-embd>=0.11.0\r\n",
      "  Downloading keras-pos-embd-0.11.0.tar.gz (5.9 kB)\r\n",
      "Requirement already satisfied: numpy in /opt/conda/lib/python3.7/site-packages (from fastprogress>=0.1.21->ktrain) (1.18.5)\r\n",
      "Requirement already satisfied: Keras>=2.4.3 in /opt/conda/lib/python3.7/site-packages (from keras_bert>=0.86.0->ktrain) (2.4.3)\r\n",
      "Collecting keras-position-wise-feed-forward>=0.6.0\r\n",
      "  Downloading keras-position-wise-feed-forward-0.6.0.tar.gz (4.4 kB)\r\n",
      "Requirement already satisfied: numpy in /opt/conda/lib/python3.7/site-packages (from fastprogress>=0.1.21->ktrain) (1.18.5)\r\n",
      "Requirement already satisfied: Keras>=2.4.3 in /opt/conda/lib/python3.7/site-packages (from keras_bert>=0.86.0->ktrain) (2.4.3)\r\n",
      "Collecting keras-self-attention==0.46.0\r\n",
      "  Downloading keras-self-attention-0.46.0.tar.gz (10 kB)\r\n",
      "Requirement already satisfied: numpy in /opt/conda/lib/python3.7/site-packages (from fastprogress>=0.1.21->ktrain) (1.18.5)\r\n",
      "Requirement already satisfied: Keras>=2.4.3 in /opt/conda/lib/python3.7/site-packages (from keras_bert>=0.86.0->ktrain) (2.4.3)\r\n",
      "Collecting langdetect\r\n",
      "  Downloading langdetect-1.0.8.tar.gz (981 kB)\r\n",
      "\u001b[K     |████████████████████████████████| 981 kB 26.2 MB/s \r\n",
      "\u001b[?25hRequirement already satisfied: six in /opt/conda/lib/python3.7/site-packages (from h5py->Keras>=2.4.3->keras_bert>=0.86.0->ktrain) (1.14.0)\r\n",
      "Requirement already satisfied: python-dateutil>=2.1 in /opt/conda/lib/python3.7/site-packages (from matplotlib>=3.0.0->ktrain) (2.8.1)\r\n",
      "Requirement already satisfied: pyparsing!=2.0.4,!=2.1.2,!=2.1.6,>=2.0.1 in /opt/conda/lib/python3.7/site-packages (from matplotlib>=3.0.0->ktrain) (2.4.7)\r\n",
      "Requirement already satisfied: numpy in /opt/conda/lib/python3.7/site-packages (from fastprogress>=0.1.21->ktrain) (1.18.5)\r\n",
      "Requirement already satisfied: cycler>=0.10 in /opt/conda/lib/python3.7/site-packages (from matplotlib>=3.0.0->ktrain) (0.10.0)\r\n",
      "Requirement already satisfied: kiwisolver>=1.0.1 in /opt/conda/lib/python3.7/site-packages (from matplotlib>=3.0.0->ktrain) (1.2.0)\r\n",
      "Requirement already satisfied: six in /opt/conda/lib/python3.7/site-packages (from h5py->Keras>=2.4.3->keras_bert>=0.86.0->ktrain) (1.14.0)\r\n",
      "Requirement already satisfied: decorator in /opt/conda/lib/python3.7/site-packages (from ipython->ktrain) (4.4.2)\r\n",
      "Requirement already satisfied: pyparsing!=2.0.4,!=2.1.2,!=2.1.6,>=2.0.1 in /opt/conda/lib/python3.7/site-packages (from matplotlib>=3.0.0->ktrain) (2.4.7)\r\n",
      "Requirement already satisfied: six in /opt/conda/lib/python3.7/site-packages (from h5py->Keras>=2.4.3->keras_bert>=0.86.0->ktrain) (1.14.0)\r\n",
      "Requirement already satisfied: numpy in /opt/conda/lib/python3.7/site-packages (from fastprogress>=0.1.21->ktrain) (1.18.5)\r\n",
      "Requirement already satisfied: pytz>=2017.2 in /opt/conda/lib/python3.7/site-packages (from pandas>=1.0.1->ktrain) (2019.3)\r\n",
      "Requirement already satisfied: python-dateutil>=2.1 in /opt/conda/lib/python3.7/site-packages (from matplotlib>=3.0.0->ktrain) (2.8.1)\r\n",
      "Requirement already satisfied: ptyprocess>=0.5 in /opt/conda/lib/python3.7/site-packages (from pexpect->ipython->ktrain) (0.6.0)\r\n",
      "Requirement already satisfied: wcwidth in /opt/conda/lib/python3.7/site-packages (from prompt-toolkit!=3.0.0,!=3.0.1,<3.1.0,>=2.0.0->ipython->ktrain) (0.1.9)\r\n",
      "Requirement already satisfied: six in /opt/conda/lib/python3.7/site-packages (from h5py->Keras>=2.4.3->keras_bert>=0.86.0->ktrain) (1.14.0)\r\n",
      "Requirement already satisfied: urllib3!=1.25.0,!=1.25.1,<1.26,>=1.21.1 in /opt/conda/lib/python3.7/site-packages (from requests->ktrain) (1.25.9)\r\n",
      "Requirement already satisfied: chardet<4,>=3.0.2 in /opt/conda/lib/python3.7/site-packages (from requests->ktrain) (3.0.4)\r\n",
      "Requirement already satisfied: certifi>=2017.4.17 in /opt/conda/lib/python3.7/site-packages (from requests->ktrain) (2020.12.5)\r\n",
      "Requirement already satisfied: idna<3,>=2.5 in /opt/conda/lib/python3.7/site-packages (from requests->ktrain) (2.9)\r\n",
      "Requirement already satisfied: numpy in /opt/conda/lib/python3.7/site-packages (from fastprogress>=0.1.21->ktrain) (1.18.5)\r\n",
      "Requirement already satisfied: joblib in /opt/conda/lib/python3.7/site-packages (from ktrain) (0.14.1)\r\n",
      "Requirement already satisfied: threadpoolctl>=2.0.0 in /opt/conda/lib/python3.7/site-packages (from scikit-learn==0.23.2->ktrain) (2.1.0)\r\n",
      "Requirement already satisfied: scipy>=0.14 in /opt/conda/lib/python3.7/site-packages (from Keras>=2.4.3->keras_bert>=0.86.0->ktrain) (1.4.1)\r\n",
      "Requirement already satisfied: numpy in /opt/conda/lib/python3.7/site-packages (from fastprogress>=0.1.21->ktrain) (1.18.5)\r\n",
      "Collecting seqeval==0.0.19\r\n",
      "  Downloading seqeval-0.0.19.tar.gz (30 kB)\r\n",
      "Requirement already satisfied: numpy in /opt/conda/lib/python3.7/site-packages (from fastprogress>=0.1.21->ktrain) (1.18.5)\r\n",
      "Requirement already satisfied: Keras>=2.4.3 in /opt/conda/lib/python3.7/site-packages (from keras_bert>=0.86.0->ktrain) (2.4.3)\r\n",
      "Collecting syntok\r\n",
      "  Downloading syntok-1.3.1.tar.gz (23 kB)\r\n",
      "Requirement already satisfied: regex in /opt/conda/lib/python3.7/site-packages (from syntok->ktrain) (2020.4.4)\r\n",
      "Requirement already satisfied: ipython-genutils in /opt/conda/lib/python3.7/site-packages (from traitlets>=4.2->ipython->ktrain) (0.2.0)\r\n",
      "Requirement already satisfied: decorator in /opt/conda/lib/python3.7/site-packages (from ipython->ktrain) (4.4.2)\r\n",
      "Requirement already satisfied: six in /opt/conda/lib/python3.7/site-packages (from h5py->Keras>=2.4.3->keras_bert>=0.86.0->ktrain) (1.14.0)\r\n",
      "Requirement already satisfied: regex in /opt/conda/lib/python3.7/site-packages (from syntok->ktrain) (2020.4.4)\r\n",
      "Requirement already satisfied: sacremoses in /opt/conda/lib/python3.7/site-packages (from transformers<4.0,>=3.1.0->ktrain) (0.0.43)\r\n",
      "Requirement already satisfied: numpy in /opt/conda/lib/python3.7/site-packages (from fastprogress>=0.1.21->ktrain) (1.18.5)\r\n",
      "Requirement already satisfied: packaging in /opt/conda/lib/python3.7/site-packages (from ktrain) (20.1)\r\n",
      "Requirement already satisfied: sentencepiece in /opt/conda/lib/python3.7/site-packages (from ktrain) (0.1.91)\r\n",
      "Requirement already satisfied: tokenizers==0.9.3 in /opt/conda/lib/python3.7/site-packages (from transformers<4.0,>=3.1.0->ktrain) (0.9.3)\r\n",
      "Requirement already satisfied: requests in /opt/conda/lib/python3.7/site-packages (from ktrain) (2.23.0)\r\n",
      "Requirement already satisfied: protobuf in /opt/conda/lib/python3.7/site-packages (from transformers<4.0,>=3.1.0->ktrain) (3.14.0)\r\n",
      "Requirement already satisfied: filelock in /opt/conda/lib/python3.7/site-packages (from transformers<4.0,>=3.1.0->ktrain) (3.0.10)\r\n",
      "Requirement already satisfied: tqdm>=4.27 in /opt/conda/lib/python3.7/site-packages (from transformers<4.0,>=3.1.0->ktrain) (4.45.0)\r\n",
      "Requirement already satisfied: six in /opt/conda/lib/python3.7/site-packages (from h5py->Keras>=2.4.3->keras_bert>=0.86.0->ktrain) (1.14.0)\r\n",
      "Requirement already satisfied: tqdm>=4.27 in /opt/conda/lib/python3.7/site-packages (from transformers<4.0,>=3.1.0->ktrain) (4.45.0)\r\n",
      "Requirement already satisfied: joblib in /opt/conda/lib/python3.7/site-packages (from ktrain) (0.14.1)\r\n",
      "Requirement already satisfied: click in /opt/conda/lib/python3.7/site-packages (from sacremoses->transformers<4.0,>=3.1.0->ktrain) (7.1.1)\r\n",
      "Requirement already satisfied: regex in /opt/conda/lib/python3.7/site-packages (from syntok->ktrain) (2020.4.4)\r\n",
      "Requirement already satisfied: six in /opt/conda/lib/python3.7/site-packages (from h5py->Keras>=2.4.3->keras_bert>=0.86.0->ktrain) (1.14.0)\r\n",
      "Collecting whoosh\r\n",
      "  Downloading Whoosh-2.7.4-py2.py3-none-any.whl (468 kB)\r\n",
      "\u001b[K     |████████████████████████████████| 468 kB 30.0 MB/s \r\n",
      "\u001b[?25hBuilding wheels for collected packages: ktrain, keras-bert, keras-transformer, keras-embed-sim, keras-layer-normalization, keras-multi-head, keras-pos-embd, keras-position-wise-feed-forward, keras-self-attention, langdetect, seqeval, syntok\r\n",
      "  Building wheel for ktrain (setup.py) ... \u001b[?25l-\b \b\\\b \b|\b \b/\b \b-\b \b\\\b \b|\b \bdone\r\n",
      "\u001b[?25h  Created wheel for ktrain: filename=ktrain-0.25.3-py3-none-any.whl size=25276310 sha256=c46c136b814cdc813f11da937671609f8a14386032681c563a61e88832f77193\r\n",
      "  Stored in directory: /root/.cache/pip/wheels/ee/a4/a5/e874d2603b0830002815f0e36c7355695a69595e5bcaa9dc48\r\n",
      "  Building wheel for keras-bert (setup.py) ... \u001b[?25l-\b \b\\\b \bdone\r\n",
      "\u001b[?25h  Created wheel for keras-bert: filename=keras_bert-0.86.0-py3-none-any.whl size=34147 sha256=79fdf0d60ccf83ce5e6066a370f46a222ed49ed6449e133a664ca62bf1b3a4ad\r\n",
      "  Stored in directory: /root/.cache/pip/wheels/fc/c1/0a/eb9187261b3f192ac314aefb54fe66f50540c3edb906599633\r\n",
      "  Building wheel for keras-transformer (setup.py) ... \u001b[?25l-\b \b\\\b \bdone\r\n",
      "\u001b[?25h  Created wheel for keras-transformer: filename=keras_transformer-0.38.0-py3-none-any.whl size=12941 sha256=20853116bedf4047113bf895c77321cf398ce0df8b4ff4c0df3aa8961cdd24b9\r\n",
      "  Stored in directory: /root/.cache/pip/wheels/b3/67/58/bcfb43b6ab764496a446021a8d05991adffd48c16582381326\r\n",
      "  Building wheel for keras-embed-sim (setup.py) ... \u001b[?25l-\b \bdone\r\n",
      "\u001b[?25h  Created wheel for keras-embed-sim: filename=keras_embed_sim-0.8.0-py3-none-any.whl size=4558 sha256=8b73d94d263915536004c9843a4156e1f91d3024db86446f5ab94ac5075061e5\r\n",
      "  Stored in directory: /root/.cache/pip/wheels/2d/31/2c/2d3fb4442f6112b92cd56bf801ff25421f302c755f935d4a79\r\n",
      "  Building wheel for keras-layer-normalization (setup.py) ... \u001b[?25l-\b \bdone\r\n",
      "\u001b[?25h  Created wheel for keras-layer-normalization: filename=keras_layer_normalization-0.14.0-py3-none-any.whl size=5267 sha256=4f7dfd3bc87c5cf7696eb4448d44ce9fb2e8616befcedfb94f6bbdb5a4a99f8d\r\n",
      "  Stored in directory: /root/.cache/pip/wheels/58/14/24/76b0d99b7d9cc17e110956e0fae825a5da3e70a60273220502\r\n",
      "  Building wheel for keras-multi-head (setup.py) ... \u001b[?25l-\b \b\\\b \bdone\r\n",
      "\u001b[?25h  Created wheel for keras-multi-head: filename=keras_multi_head-0.27.0-py3-none-any.whl size=15613 sha256=6af6a90b40720b19120ec91815294e8db30bd29a3f4b1d675b5163565d0addcd\r\n",
      "  Stored in directory: /root/.cache/pip/wheels/21/38/cc/50e6d62d6d458e8223d3ddaef7c622b67ae57708193918051b\r\n",
      "  Building wheel for keras-pos-embd (setup.py) ... \u001b[?25l-\b \b\\\b \bdone\r\n",
      "\u001b[?25h  Created wheel for keras-pos-embd: filename=keras_pos_embd-0.11.0-py3-none-any.whl size=7553 sha256=35cf8992118ce1b6cc1ea160508547a3681fe2c0c769b9bef472f16a642f7a0f\r\n",
      "  Stored in directory: /root/.cache/pip/wheels/65/66/e9/c7eafddc29b81a98786f12b48a2aee7e3c633f6bf4a62cbc20\r\n",
      "  Building wheel for keras-position-wise-feed-forward (setup.py) ... \u001b[?25l-\b \bdone\r\n",
      "\u001b[?25h  Created wheel for keras-position-wise-feed-forward: filename=keras_position_wise_feed_forward-0.6.0-py3-none-any.whl size=5623 sha256=66017affb5505cfbdb125802358b5de6475ac7e8e9dff03a8ab461c338a96b7d\r\n",
      "  Stored in directory: /root/.cache/pip/wheels/9e/53/a2/651c985b605e6a6c48688c779808eb1956fabb910b0557d871\r\n",
      "  Building wheel for keras-self-attention (setup.py) ... \u001b[?25l-\b \b\\\b \bdone\r\n",
      "\u001b[?25h  Created wheel for keras-self-attention: filename=keras_self_attention-0.46.0-py3-none-any.whl size=17278 sha256=95e324f39cfd6f529ee8aa265bddeb65c20992303cac1afa0dfd7803b5db47db\r\n",
      "  Stored in directory: /root/.cache/pip/wheels/ec/f7/48/30de93f8333298bad9202aab9b04db0cfd58dcd379b5a5ef1c\r\n",
      "  Building wheel for langdetect (setup.py) ... \u001b[?25l-\b \b\\\b \b|\b \b/\b \bdone\r\n",
      "\u001b[?25h  Created wheel for langdetect: filename=langdetect-1.0.8-py3-none-any.whl size=993191 sha256=712f322f2d814c9f641128ee325aa023a22519b8b941b510f218d047fc247e5a\r\n",
      "  Stored in directory: /root/.cache/pip/wheels/59/f6/9d/85068904dba861c0b9af74e286265a08da438748ee5ae56067\r\n",
      "  Building wheel for seqeval (setup.py) ... \u001b[?25l-\b \b\\\b \bdone\r\n",
      "\u001b[?25h  Created wheel for seqeval: filename=seqeval-0.0.19-py3-none-any.whl size=9917 sha256=35814fb8d4230c4c045bf26d309c783d111b3c563d43c7b6052804d95bf56f85\r\n",
      "  Stored in directory: /root/.cache/pip/wheels/f5/ac/f1/4e13d7aff05c722d142b7d20a88ad63f9aab11b895411241a4\r\n",
      "  Building wheel for syntok (setup.py) ... \u001b[?25l-\b \bdone\r\n",
      "\u001b[?25h  Created wheel for syntok: filename=syntok-1.3.1-py3-none-any.whl size=20916 sha256=c01b7df8cef99914ae56fcc2ff0c852a9df3cd39fbe96a9857fc1c1cb70d1cc3\r\n",
      "  Stored in directory: /root/.cache/pip/wheels/5e/c2/33/e5d7d8f2f8b0c391d76bf82b844c3151bf23a84d75d02b185f\r\n",
      "Successfully built ktrain keras-bert keras-transformer keras-embed-sim keras-layer-normalization keras-multi-head keras-pos-embd keras-position-wise-feed-forward keras-self-attention langdetect seqeval syntok\r\n",
      "Installing collected packages: keras-self-attention, keras-position-wise-feed-forward, keras-pos-embd, keras-multi-head, keras-layer-normalization, keras-embed-sim, keras-transformer, whoosh, syntok, seqeval, langdetect, keras-bert, cchardet, ktrain\r\n",
      "Successfully installed cchardet-2.1.7 keras-bert-0.86.0 keras-embed-sim-0.8.0 keras-layer-normalization-0.14.0 keras-multi-head-0.27.0 keras-pos-embd-0.11.0 keras-position-wise-feed-forward-0.6.0 keras-self-attention-0.46.0 keras-transformer-0.38.0 ktrain-0.25.3 langdetect-1.0.8 seqeval-0.0.19 syntok-1.3.1 whoosh-2.7.4\r\n",
      "\u001b[33mWARNING: You are using pip version 20.3.1; however, version 20.3.3 is available.\r\n",
      "You should consider upgrading via the '/opt/conda/bin/python3.7 -m pip install --upgrade pip' command.\u001b[0m\r\n"
     ]
    }
   ],
   "source": [
    "!pip install ktrain"
   ]
  },
  {
   "cell_type": "code",
   "execution_count": 2,
   "metadata": {
    "execution": {
     "iopub.execute_input": "2021-01-18T04:15:57.390567Z",
     "iopub.status.busy": "2021-01-18T04:15:57.389977Z",
     "iopub.status.idle": "2021-01-18T04:15:57.430943Z",
     "shell.execute_reply": "2021-01-18T04:15:57.430498Z"
    },
    "papermill": {
     "duration": 0.104654,
     "end_time": "2021-01-18T04:15:57.431027",
     "exception": false,
     "start_time": "2021-01-18T04:15:57.326373",
     "status": "completed"
    },
    "tags": []
   },
   "outputs": [],
   "source": [
    "import pandas as pd\n",
    "train_df = pd.read_csv(\"../input/nlp-getting-started/train.csv\")"
   ]
  },
  {
   "cell_type": "code",
   "execution_count": 3,
   "metadata": {
    "execution": {
     "iopub.execute_input": "2021-01-18T04:15:57.550971Z",
     "iopub.status.busy": "2021-01-18T04:15:57.550201Z",
     "iopub.status.idle": "2021-01-18T04:16:08.208471Z",
     "shell.execute_reply": "2021-01-18T04:16:08.207465Z"
    },
    "papermill": {
     "duration": 10.7207,
     "end_time": "2021-01-18T04:16:08.208585",
     "exception": false,
     "start_time": "2021-01-18T04:15:57.487885",
     "status": "completed"
    },
    "tags": []
   },
   "outputs": [],
   "source": [
    "import ktrain\n",
    "from ktrain import text\n",
    "from sklearn.model_selection import train_test_split"
   ]
  },
  {
   "cell_type": "code",
   "execution_count": 4,
   "metadata": {
    "execution": {
     "iopub.execute_input": "2021-01-18T04:16:08.392105Z",
     "iopub.status.busy": "2021-01-18T04:16:08.389383Z",
     "iopub.status.idle": "2021-01-18T04:16:08.404207Z",
     "shell.execute_reply": "2021-01-18T04:16:08.403777Z"
    },
    "papermill": {
     "duration": 0.112907,
     "end_time": "2021-01-18T04:16:08.404326",
     "exception": false,
     "start_time": "2021-01-18T04:16:08.291419",
     "status": "completed"
    },
    "tags": []
   },
   "outputs": [],
   "source": [
    "x_train, x_val, y_train, y_val = train_test_split(train_df['text'], train_df['target'], shuffle=True, test_size = 0.2, random_state=1234, stratify=train_df['target'])"
   ]
  },
  {
   "cell_type": "code",
   "execution_count": 5,
   "metadata": {
    "execution": {
     "iopub.execute_input": "2021-01-18T04:16:08.522073Z",
     "iopub.status.busy": "2021-01-18T04:16:08.520813Z",
     "iopub.status.idle": "2021-01-18T04:16:08.523264Z",
     "shell.execute_reply": "2021-01-18T04:16:08.523682Z"
    },
    "papermill": {
     "duration": 0.062986,
     "end_time": "2021-01-18T04:16:08.523781",
     "exception": false,
     "start_time": "2021-01-18T04:16:08.460795",
     "status": "completed"
    },
    "tags": []
   },
   "outputs": [],
   "source": [
    "train_labels=train_df['target']"
   ]
  },
  {
   "cell_type": "code",
   "execution_count": 6,
   "metadata": {
    "execution": {
     "iopub.execute_input": "2021-01-18T04:16:08.643511Z",
     "iopub.status.busy": "2021-01-18T04:16:08.642656Z",
     "iopub.status.idle": "2021-01-18T04:16:08.645196Z",
     "shell.execute_reply": "2021-01-18T04:16:08.644772Z"
    },
    "papermill": {
     "duration": 0.063936,
     "end_time": "2021-01-18T04:16:08.645282",
     "exception": false,
     "start_time": "2021-01-18T04:16:08.581346",
     "status": "completed"
    },
    "tags": []
   },
   "outputs": [],
   "source": [
    "import numpy as np\n",
    "x_train=np.array(x_train)\n",
    "y_train=np.array(y_train)\n",
    "x_val=np.array(x_val)\n",
    "y_val=np.array(y_val)"
   ]
  },
  {
   "cell_type": "code",
   "execution_count": 7,
   "metadata": {
    "execution": {
     "iopub.execute_input": "2021-01-18T04:16:08.766047Z",
     "iopub.status.busy": "2021-01-18T04:16:08.765195Z",
     "iopub.status.idle": "2021-01-18T04:16:20.882582Z",
     "shell.execute_reply": "2021-01-18T04:16:20.883171Z"
    },
    "papermill": {
     "duration": 12.181036,
     "end_time": "2021-01-18T04:16:20.883327",
     "exception": false,
     "start_time": "2021-01-18T04:16:08.702291",
     "status": "completed"
    },
    "tags": []
   },
   "outputs": [
    {
     "name": "stdout",
     "output_type": "stream",
     "text": [
      "downloading pretrained BERT model (uncased_L-12_H-768_A-12.zip)...\n",
      "[██████████████████████████████████████████████████]\n",
      "extracting pretrained BERT model...\n",
      "done.\n",
      "\n",
      "cleanup downloaded zip...\n",
      "done.\n",
      "\n",
      "preprocessing train...\n",
      "language: en\n"
     ]
    },
    {
     "data": {
      "text/html": [
       "done."
      ],
      "text/plain": [
       "<IPython.core.display.HTML object>"
      ]
     },
     "metadata": {},
     "output_type": "display_data"
    },
    {
     "name": "stdout",
     "output_type": "stream",
     "text": [
      "Is Multi-Label? False\n",
      "preprocessing test...\n",
      "language: en\n"
     ]
    },
    {
     "data": {
      "text/html": [
       "done."
      ],
      "text/plain": [
       "<IPython.core.display.HTML object>"
      ]
     },
     "metadata": {},
     "output_type": "display_data"
    },
    {
     "name": "stdout",
     "output_type": "stream",
     "text": [
      "task: text classification\n"
     ]
    }
   ],
   "source": [
    "(x_train_bert,  y_train_bert), (x_val_bert, y_val_bert), preproc = text.texts_from_array(x_train=x_train, y_train=y_train,\n",
    "                                                                                         x_test = x_val, y_test=y_val,\n",
    "                                                                                          class_names=train_labels.unique().tolist(),\n",
    "                                                                                          preprocess_mode='bert',\n",
    "                                                                                          lang = 'en',\n",
    "                                                                                          maxlen=300, \n",
    "                                                                                          max_features=45000)"
   ]
  },
  {
   "cell_type": "code",
   "execution_count": 8,
   "metadata": {
    "execution": {
     "iopub.execute_input": "2021-01-18T04:16:21.220692Z",
     "iopub.status.busy": "2021-01-18T04:16:21.219872Z",
     "iopub.status.idle": "2021-01-18T04:16:34.324778Z",
     "shell.execute_reply": "2021-01-18T04:16:34.323977Z"
    },
    "papermill": {
     "duration": 13.274878,
     "end_time": "2021-01-18T04:16:34.324889",
     "exception": false,
     "start_time": "2021-01-18T04:16:21.050011",
     "status": "completed"
    },
    "tags": []
   },
   "outputs": [
    {
     "name": "stdout",
     "output_type": "stream",
     "text": [
      "Is Multi-Label? False\n",
      "maxlen is 300\n",
      "done.\n"
     ]
    }
   ],
   "source": [
    "\n",
    "model = text.text_classifier('bert', train_data=(x_train_bert, y_train_bert), preproc=preproc)\n",
    "learner = ktrain.get_learner(model, train_data=(x_train_bert, y_train_bert), val_data=(x_val_bert, y_val_bert), batch_size=16)"
   ]
  },
  {
   "cell_type": "code",
   "execution_count": 9,
   "metadata": {
    "execution": {
     "iopub.execute_input": "2021-01-18T04:16:34.674196Z",
     "iopub.status.busy": "2021-01-18T04:16:34.673379Z",
     "iopub.status.idle": "2021-01-18T04:35:56.940090Z",
     "shell.execute_reply": "2021-01-18T04:35:56.940568Z"
    },
    "papermill": {
     "duration": 1162.438486,
     "end_time": "2021-01-18T04:35:56.940705",
     "exception": false,
     "start_time": "2021-01-18T04:16:34.502219",
     "status": "completed"
    },
    "tags": []
   },
   "outputs": [
    {
     "name": "stdout",
     "output_type": "stream",
     "text": [
      "simulating training for different learning rates... this may take a few moments...\n",
      "Epoch 1/3\n",
      "381/381 [==============================] - 377s 989ms/step - loss: 0.6071 - accuracy: 0.6478\n",
      "Epoch 2/3\n",
      "381/381 [==============================] - 378s 993ms/step - loss: 0.7287 - accuracy: 0.6007\n",
      "Epoch 3/3\n",
      "381/381 [==============================] - 377s 990ms/step - loss: 3.7146 - accuracy: 0.5003\n",
      "\n",
      "\n",
      "done.\n",
      "Please invoke the Learner.lr_plot() method to visually inspect the loss plot to help identify the maximal learning rate associated with falling loss.\n"
     ]
    }
   ],
   "source": [
    "learner.lr_find(max_epochs=3) "
   ]
  },
  {
   "cell_type": "code",
   "execution_count": 10,
   "metadata": {
    "execution": {
     "iopub.execute_input": "2021-01-18T04:35:57.928913Z",
     "iopub.status.busy": "2021-01-18T04:35:57.928394Z",
     "iopub.status.idle": "2021-01-18T04:35:58.659841Z",
     "shell.execute_reply": "2021-01-18T04:35:58.660629Z"
    },
    "papermill": {
     "duration": 1.223183,
     "end_time": "2021-01-18T04:35:58.660825",
     "exception": false,
     "start_time": "2021-01-18T04:35:57.437642",
     "status": "completed"
    },
    "tags": []
   },
   "outputs": [
    {
     "data": {
      "image/png": "[encoded data removed]",
      "text/plain": [
       "<Figure size 432x288 with 1 Axes>"
      ]
     },
     "metadata": {
      "needs_background": "light"
     },
     "output_type": "display_data"
    }
   ],
   "source": [
    "learner.lr_plot()"
   ]
  },
  {
   "cell_type": "code",
   "execution_count": 11,
   "metadata": {
    "execution": {
     "iopub.execute_input": "2021-01-18T04:35:59.793488Z",
     "iopub.status.busy": "2021-01-18T04:35:59.792613Z",
     "iopub.status.idle": "2021-01-18T05:17:25.028784Z",
     "shell.execute_reply": "2021-01-18T05:17:25.027288Z"
    },
    "papermill": {
     "duration": 2485.735951,
     "end_time": "2021-01-18T05:17:25.028897",
     "exception": false,
     "start_time": "2021-01-18T04:35:59.292946",
     "status": "completed"
    },
    "tags": []
   },
   "outputs": [
    {
     "name": "stdout",
     "output_type": "stream",
     "text": [
      "early_stopping automatically enabled at patience=5\n",
      "reduce_on_plateau automatically enabled at patience=2\n",
      "\n",
      "\n",
      "begin training using triangular learning rate policy with max lr of 0.0001...\n",
      "Epoch 1/1024\n",
      "381/381 [==============================] - 413s 1s/step - loss: 0.4652 - accuracy: 0.7892 - val_loss: 0.3911 - val_accuracy: 0.8398\n",
      "Epoch 2/1024\n",
      "381/381 [==============================] - 408s 1s/step - loss: 0.3283 - accuracy: 0.8700 - val_loss: 0.4080 - val_accuracy: 0.8280\n",
      "Epoch 3/1024\n",
      "381/381 [==============================] - ETA: 0s - loss: 0.2415 - accuracy: 0.9097\n",
      "Epoch 00003: Reducing Max LR on Plateau: new max lr will be 5e-05 (if not early_stopping).\n",
      "381/381 [==============================] - 409s 1s/step - loss: 0.2415 - accuracy: 0.9097 - val_loss: 0.4450 - val_accuracy: 0.8267\n",
      "Epoch 4/1024\n",
      "381/381 [==============================] - 409s 1s/step - loss: 0.1393 - accuracy: 0.9524 - val_loss: 0.4911 - val_accuracy: 0.8293\n",
      "Epoch 5/1024\n",
      "381/381 [==============================] - ETA: 0s - loss: 0.0952 - accuracy: 0.9667\n",
      "Epoch 00005: Reducing Max LR on Plateau: new max lr will be 2.5e-05 (if not early_stopping).\n",
      "381/381 [==============================] - 410s 1s/step - loss: 0.0952 - accuracy: 0.9667 - val_loss: 0.5829 - val_accuracy: 0.8299\n",
      "Epoch 6/1024\n",
      "381/381 [==============================] - ETA: 0s - loss: 0.0610 - accuracy: 0.9752Restoring model weights from the end of the best epoch.\n",
      "381/381 [==============================] - 410s 1s/step - loss: 0.0610 - accuracy: 0.9752 - val_loss: 0.7310 - val_accuracy: 0.8207\n",
      "Epoch 00006: early stopping\n",
      "Weights from best epoch have been loaded into model.\n"
     ]
    },
    {
     "data": {
      "text/plain": [
       "<tensorflow.python.keras.callbacks.History at 0x7ff3a2531a10>"
      ]
     },
     "execution_count": 11,
     "metadata": {},
     "output_type": "execute_result"
    }
   ],
   "source": [
    "learner.autofit(1e-4)"
   ]
  },
  {
   "cell_type": "code",
   "execution_count": 12,
   "metadata": {
    "execution": {
     "iopub.execute_input": "2021-01-18T05:17:27.340677Z",
     "iopub.status.busy": "2021-01-18T05:17:27.339480Z",
     "iopub.status.idle": "2021-01-18T05:17:50.104313Z",
     "shell.execute_reply": "2021-01-18T05:17:50.103849Z"
    },
    "papermill": {
     "duration": 23.938437,
     "end_time": "2021-01-18T05:17:50.104420",
     "exception": false,
     "start_time": "2021-01-18T05:17:26.165983",
     "status": "completed"
    },
    "tags": []
   },
   "outputs": [
    {
     "name": "stdout",
     "output_type": "stream",
     "text": [
      "              precision    recall  f1-score   support\n",
      "\n",
      " No Disaster       0.80      0.95      0.87       869\n",
      "    Disaster       0.91      0.69      0.79       654\n",
      "\n",
      "    accuracy                           0.84      1523\n",
      "   macro avg       0.86      0.82      0.83      1523\n",
      "weighted avg       0.85      0.84      0.84      1523\n",
      "\n"
     ]
    },
    {
     "data": {
      "text/plain": [
       "array([[825,  44],\n",
       "       [200, 454]])"
      ]
     },
     "execution_count": 12,
     "metadata": {},
     "output_type": "execute_result"
    }
   ],
   "source": [
    "learner.validate(val_data=(x_val_bert, y_val_bert), class_names=['No Disaster', 'Disaster'])"
   ]
  },
  {
   "cell_type": "code",
   "execution_count": 13,
   "metadata": {
    "execution": {
     "iopub.execute_input": "2021-01-18T05:17:52.372497Z",
     "iopub.status.busy": "2021-01-18T05:17:52.371584Z",
     "iopub.status.idle": "2021-01-18T05:17:52.373888Z",
     "shell.execute_reply": "2021-01-18T05:17:52.374363Z"
    },
    "papermill": {
     "duration": 1.121639,
     "end_time": "2021-01-18T05:17:52.374475",
     "exception": false,
     "start_time": "2021-01-18T05:17:51.252836",
     "status": "completed"
    },
    "tags": []
   },
   "outputs": [],
   "source": [
    "predictor = ktrain.get_predictor(learner.model, preproc)"
   ]
  },
  {
   "cell_type": "code",
   "execution_count": 14,
   "metadata": {
    "execution": {
     "iopub.execute_input": "2021-01-18T05:17:55.088874Z",
     "iopub.status.busy": "2021-01-18T05:17:55.088062Z",
     "iopub.status.idle": "2021-01-18T05:17:55.112647Z",
     "shell.execute_reply": "2021-01-18T05:17:55.112224Z"
    },
    "papermill": {
     "duration": 1.36832,
     "end_time": "2021-01-18T05:17:55.112738",
     "exception": false,
     "start_time": "2021-01-18T05:17:53.744418",
     "status": "completed"
    },
    "tags": []
   },
   "outputs": [
    {
     "name": "stdout",
     "output_type": "stream",
     "text": [
      "0 (trainable=True) : <tensorflow.python.keras.engine.input_layer.InputLayer object at 0x7ff3a334d190>\n",
      "1 (trainable=True) : <tensorflow.python.keras.engine.input_layer.InputLayer object at 0x7ff3a334d510>\n",
      "2 (trainable=True) : <keras_bert.layers.embedding.TokenEmbedding object at 0x7ff3a334d8d0>\n",
      "3 (trainable=True) : <tensorflow.python.keras.layers.embeddings.Embedding object at 0x7ff3d06402d0>\n",
      "4 (trainable=True) : <tensorflow.python.keras.layers.merge.Add object at 0x7ff3a3342550>\n",
      "5 (trainable=True) : <keras_pos_embd.pos_embd.PositionEmbedding object at 0x7ff3a334df90>\n",
      "6 (trainable=True) : <tensorflow.python.keras.layers.core.Dropout object at 0x7ff3a5becf10>\n",
      "7 (trainable=True) : <keras_layer_normalization.layer_normalization.LayerNormalization object at 0x7ff3a3340910>\n",
      "8 (trainable=True) : <keras_multi_head.multi_head_attention.MultiHeadAttention object at 0x7ff3a3340cd0>\n",
      "9 (trainable=True) : <tensorflow.python.keras.layers.core.Dropout object at 0x7ff3a3340f90>\n",
      "10 (trainable=True) : <tensorflow.python.keras.layers.merge.Add object at 0x7ff3a5bda750>\n",
      "11 (trainable=True) : <keras_layer_normalization.layer_normalization.LayerNormalization object at 0x7ff3a334a3d0>\n",
      "12 (trainable=True) : <keras_position_wise_feed_forward.feed_forward.FeedForward object at 0x7ff3a5bbf050>\n",
      "13 (trainable=True) : <tensorflow.python.keras.layers.core.Dropout object at 0x7ff3a334ab90>\n",
      "14 (trainable=True) : <tensorflow.python.keras.layers.merge.Add object at 0x7ff3a334ac50>\n",
      "15 (trainable=True) : <keras_layer_normalization.layer_normalization.LayerNormalization object at 0x7ff3a334af10>\n",
      "16 (trainable=True) : <keras_multi_head.multi_head_attention.MultiHeadAttention object at 0x7ff3a3369490>\n",
      "17 (trainable=True) : <tensorflow.python.keras.layers.core.Dropout object at 0x7ff3a3362710>\n",
      "18 (trainable=True) : <tensorflow.python.keras.layers.merge.Add object at 0x7ff3a3362910>\n",
      "19 (trainable=True) : <keras_layer_normalization.layer_normalization.LayerNormalization object at 0x7ff3a3362b90>\n",
      "20 (trainable=True) : <keras_position_wise_feed_forward.feed_forward.FeedForward object at 0x7ff3a334af90>\n",
      "21 (trainable=True) : <tensorflow.python.keras.layers.core.Dropout object at 0x7ff3a334c1d0>\n",
      "22 (trainable=True) : <tensorflow.python.keras.layers.merge.Add object at 0x7ff3a334c390>\n",
      "23 (trainable=True) : <keras_layer_normalization.layer_normalization.LayerNormalization object at 0x7ff3a3369f10>\n",
      "24 (trainable=True) : <keras_multi_head.multi_head_attention.MultiHeadAttention object at 0x7ff3e01317d0>\n",
      "25 (trainable=True) : <tensorflow.python.keras.layers.core.Dropout object at 0x7ff3d068bb10>\n",
      "26 (trainable=True) : <tensorflow.python.keras.layers.merge.Add object at 0x7ff3a3a05390>\n",
      "27 (trainable=True) : <keras_layer_normalization.layer_normalization.LayerNormalization object at 0x7ff3a334cf10>\n",
      "28 (trainable=True) : <keras_position_wise_feed_forward.feed_forward.FeedForward object at 0x7ff3d0662710>\n",
      "29 (trainable=True) : <tensorflow.python.keras.layers.core.Dropout object at 0x7ff3a328e6d0>\n",
      "30 (trainable=True) : <tensorflow.python.keras.layers.merge.Add object at 0x7ff3a328e8d0>\n",
      "31 (trainable=True) : <keras_layer_normalization.layer_normalization.LayerNormalization object at 0x7ff3a328ea90>\n",
      "32 (trainable=True) : <keras_multi_head.multi_head_attention.MultiHeadAttention object at 0x7ff3a328ee50>\n",
      "33 (trainable=True) : <tensorflow.python.keras.layers.core.Dropout object at 0x7ff3a3294210>\n",
      "34 (trainable=True) : <tensorflow.python.keras.layers.merge.Add object at 0x7ff3a3364dd0>\n",
      "35 (trainable=True) : <keras_layer_normalization.layer_normalization.LayerNormalization object at 0x7ff3a3294550>\n",
      "36 (trainable=True) : <keras_position_wise_feed_forward.feed_forward.FeedForward object at 0x7ff3a39ff810>\n",
      "37 (trainable=True) : <tensorflow.python.keras.layers.core.Dropout object at 0x7ff3a3294d10>\n",
      "38 (trainable=True) : <tensorflow.python.keras.layers.merge.Add object at 0x7ff3a3364950>\n",
      "39 (trainable=True) : <keras_layer_normalization.layer_normalization.LayerNormalization object at 0x7ff3a3294dd0>\n",
      "40 (trainable=True) : <keras_multi_head.multi_head_attention.MultiHeadAttention object at 0x7ff3a5bbf2d0>\n",
      "41 (trainable=True) : <tensorflow.python.keras.layers.core.Dropout object at 0x7ff3a329a810>\n",
      "42 (trainable=True) : <tensorflow.python.keras.layers.merge.Add object at 0x7ff3a5bbf310>\n",
      "43 (trainable=True) : <keras_layer_normalization.layer_normalization.LayerNormalization object at 0x7ff3a329ab50>\n",
      "44 (trainable=True) : <keras_position_wise_feed_forward.feed_forward.FeedForward object at 0x7ff3a5b91e50>\n",
      "45 (trainable=True) : <tensorflow.python.keras.layers.core.Dropout object at 0x7ff3a3361d90>\n",
      "46 (trainable=True) : <tensorflow.python.keras.layers.merge.Add object at 0x7ff3a32a1450>\n",
      "47 (trainable=True) : <keras_layer_normalization.layer_normalization.LayerNormalization object at 0x7ff3a32a1610>\n",
      "48 (trainable=True) : <keras_multi_head.multi_head_attention.MultiHeadAttention object at 0x7ff3a32a1a50>\n",
      "49 (trainable=True) : <tensorflow.python.keras.layers.core.Dropout object at 0x7ff3a32a1e10>\n",
      "50 (trainable=True) : <tensorflow.python.keras.layers.merge.Add object at 0x7ff3a32a1fd0>\n",
      "51 (trainable=True) : <keras_layer_normalization.layer_normalization.LayerNormalization object at 0x7ff3a32a81d0>\n",
      "52 (trainable=True) : <keras_position_wise_feed_forward.feed_forward.FeedForward object at 0x7ff3a5bec190>\n",
      "53 (trainable=True) : <tensorflow.python.keras.layers.core.Dropout object at 0x7ff3a335c3d0>\n",
      "54 (trainable=True) : <tensorflow.python.keras.layers.merge.Add object at 0x7ff3a32a8a10>\n",
      "55 (trainable=True) : <keras_layer_normalization.layer_normalization.LayerNormalization object at 0x7ff3a32a8cd0>\n",
      "56 (trainable=True) : <keras_multi_head.multi_head_attention.MultiHeadAttention object at 0x7ff3a32a8f90>\n",
      "57 (trainable=True) : <tensorflow.python.keras.layers.core.Dropout object at 0x7ff3a32af4d0>\n",
      "58 (trainable=True) : <tensorflow.python.keras.layers.merge.Add object at 0x7ff3a32af6d0>\n",
      "59 (trainable=True) : <keras_layer_normalization.layer_normalization.LayerNormalization object at 0x7ff39b0db250>\n",
      "60 (trainable=True) : <keras_position_wise_feed_forward.feed_forward.FeedForward object at 0x7ff3d0662c50>\n",
      "61 (trainable=True) : <tensorflow.python.keras.layers.core.Dropout object at 0x7ff3a32affd0>\n",
      "62 (trainable=True) : <tensorflow.python.keras.layers.merge.Add object at 0x7ff3a32b6290>\n",
      "63 (trainable=True) : <keras_layer_normalization.layer_normalization.LayerNormalization object at 0x7ff3a32b63d0>\n",
      "64 (trainable=True) : <keras_multi_head.multi_head_attention.MultiHeadAttention object at 0x7ff3a335c690>\n",
      "65 (trainable=True) : <tensorflow.python.keras.layers.core.Dropout object at 0x7ff3a32b6a90>\n",
      "66 (trainable=True) : <tensorflow.python.keras.layers.merge.Add object at 0x7ff3a32b6d50>\n",
      "67 (trainable=True) : <keras_layer_normalization.layer_normalization.LayerNormalization object at 0x7ff3a32b6f10>\n",
      "68 (trainable=True) : <keras_position_wise_feed_forward.feed_forward.FeedForward object at 0x7ff3a5bbff90>\n",
      "69 (trainable=True) : <tensorflow.python.keras.layers.core.Dropout object at 0x7ff3a323c6d0>\n",
      "70 (trainable=True) : <tensorflow.python.keras.layers.merge.Add object at 0x7ff3a323c8d0>\n",
      "71 (trainable=True) : <keras_layer_normalization.layer_normalization.LayerNormalization object at 0x7ff3a323ca90>\n",
      "72 (trainable=True) : <keras_multi_head.multi_head_attention.MultiHeadAttention object at 0x7ff3a33499d0>\n",
      "73 (trainable=True) : <tensorflow.python.keras.layers.core.Dropout object at 0x7ff3a3243290>\n",
      "74 (trainable=True) : <tensorflow.python.keras.layers.merge.Add object at 0x7ff3a3243490>\n",
      "75 (trainable=True) : <keras_layer_normalization.layer_normalization.LayerNormalization object at 0x7ff3a3243650>\n",
      "76 (trainable=True) : <keras_position_wise_feed_forward.feed_forward.FeedForward object at 0x7ff3a5bec850>\n",
      "77 (trainable=True) : <tensorflow.python.keras.layers.core.Dropout object at 0x7ff3a3243dd0>\n",
      "78 (trainable=True) : <tensorflow.python.keras.layers.merge.Add object at 0x7ff3a3243f90>\n",
      "79 (trainable=True) : <keras_layer_normalization.layer_normalization.LayerNormalization object at 0x7ff3a3349d50>\n",
      "80 (trainable=True) : <keras_multi_head.multi_head_attention.MultiHeadAttention object at 0x7ff3a324a590>\n",
      "81 (trainable=True) : <tensorflow.python.keras.layers.core.Dropout object at 0x7ff3a324a910>\n",
      "82 (trainable=True) : <tensorflow.python.keras.layers.merge.Add object at 0x7ff3a324ab10>\n",
      "83 (trainable=True) : <keras_layer_normalization.layer_normalization.LayerNormalization object at 0x7ff3a324acd0>\n",
      "84 (trainable=True) : <keras_position_wise_feed_forward.feed_forward.FeedForward object at 0x7ff3e016a3d0>\n",
      "85 (trainable=True) : <tensorflow.python.keras.layers.core.Dropout object at 0x7ff3a32514d0>\n",
      "86 (trainable=True) : <tensorflow.python.keras.layers.merge.Add object at 0x7ff3a5b8c3d0>\n",
      "87 (trainable=True) : <keras_layer_normalization.layer_normalization.LayerNormalization object at 0x7ff3a3251850>\n",
      "88 (trainable=True) : <keras_multi_head.multi_head_attention.MultiHeadAttention object at 0x7ff3a3251c90>\n",
      "89 (trainable=True) : <tensorflow.python.keras.layers.core.Dropout object at 0x7ff3a3a05590>\n",
      "90 (trainable=True) : <tensorflow.python.keras.layers.merge.Add object at 0x7ff3a3251f50>\n",
      "91 (trainable=True) : <keras_layer_normalization.layer_normalization.LayerNormalization object at 0x7ff3a3258410>\n",
      "92 (trainable=True) : <keras_position_wise_feed_forward.feed_forward.FeedForward object at 0x7ff3a5b80410>\n",
      "93 (trainable=True) : <tensorflow.python.keras.layers.core.Dropout object at 0x7ff3a3258bd0>\n",
      "94 (trainable=True) : <tensorflow.python.keras.layers.merge.Add object at 0x7ff3a3258e10>\n",
      "95 (trainable=True) : <keras_layer_normalization.layer_normalization.LayerNormalization object at 0x7ff3a3373990>\n",
      "96 (trainable=True) : <keras_multi_head.multi_head_attention.MultiHeadAttention object at 0x7ff3a325e390>\n",
      "97 (trainable=True) : <tensorflow.python.keras.layers.core.Dropout object at 0x7ff3a325e750>\n",
      "98 (trainable=True) : <tensorflow.python.keras.layers.merge.Add object at 0x7ff3a325e990>\n",
      "99 (trainable=True) : <keras_layer_normalization.layer_normalization.LayerNormalization object at 0x7ff3a325ead0>\n",
      "100 (trainable=True) : <keras_position_wise_feed_forward.feed_forward.FeedForward object at 0x7ff3fd4e2150>\n",
      "101 (trainable=True) : <tensorflow.python.keras.layers.core.Dropout object at 0x7ff3a32642d0>\n",
      "102 (trainable=True) : <tensorflow.python.keras.layers.merge.Add object at 0x7ff3a32644d0>\n",
      "103 (trainable=True) : <keras_layer_normalization.layer_normalization.LayerNormalization object at 0x7ff3a3264690>\n",
      "104 (trainable=True) : <keras_bert.layers.extract.Extract object at 0x7ff3a3264ad0>\n",
      "105 (trainable=True) : <tensorflow.python.keras.layers.core.Dense object at 0x7ff3a3264c50>\n",
      "106 (trainable=True) : <tensorflow.python.keras.layers.core.Dense object at 0x7ff3a326b0d0>\n"
     ]
    }
   ],
   "source": [
    "learner.print_layers()"
   ]
  },
  {
   "cell_type": "code",
   "execution_count": 15,
   "metadata": {
    "execution": {
     "iopub.execute_input": "2021-01-18T05:17:57.421580Z",
     "iopub.status.busy": "2021-01-18T05:17:57.420638Z",
     "iopub.status.idle": "2021-01-18T05:18:40.107269Z",
     "shell.execute_reply": "2021-01-18T05:18:40.106426Z"
    },
    "papermill": {
     "duration": 43.878332,
     "end_time": "2021-01-18T05:18:40.107380",
     "exception": false,
     "start_time": "2021-01-18T05:17:56.229048",
     "status": "completed"
    },
    "tags": []
   },
   "outputs": [],
   "source": [
    "test_df = pd.read_csv(\"../input/nlp-getting-started/test.csv\")\n",
    "test_df[\"target\"] = predictor.predict(test_df[\"text\"].tolist())\n",
    "\n",
    "test_df = test_df[[\"id\", \"target\"]]"
   ]
  },
  {
   "cell_type": "code",
   "execution_count": 16,
   "metadata": {
    "execution": {
     "iopub.execute_input": "2021-01-18T05:18:42.644401Z",
     "iopub.status.busy": "2021-01-18T05:18:42.643850Z",
     "iopub.status.idle": "2021-01-18T05:18:42.652325Z",
     "shell.execute_reply": "2021-01-18T05:18:42.651899Z"
    },
    "papermill": {
     "duration": 1.427985,
     "end_time": "2021-01-18T05:18:42.652418",
     "exception": false,
     "start_time": "2021-01-18T05:18:41.224433",
     "status": "completed"
    },
    "tags": []
   },
   "outputs": [
    {
     "data": {
      "text/html": [
       "<div>\n",
       "<style scoped>\n",
       "    .dataframe tbody tr th:only-of-type {\n",
       "        vertical-align: middle;\n",
       "    }\n",
       "\n",
       "    .dataframe tbody tr th {\n",
       "        vertical-align: top;\n",
       "    }\n",
       "\n",
       "    .dataframe thead th {\n",
       "        text-align: right;\n",
       "    }\n",
       "</style>\n",
       "<table border=\"1\" class=\"dataframe\">\n",
       "  <thead>\n",
       "    <tr style=\"text-align: right;\">\n",
       "      <th></th>\n",
       "      <th>id</th>\n",
       "      <th>target</th>\n",
       "    </tr>\n",
       "  </thead>\n",
       "  <tbody>\n",
       "    <tr>\n",
       "      <th>0</th>\n",
       "      <td>0</td>\n",
       "      <td>0</td>\n",
       "    </tr>\n",
       "    <tr>\n",
       "      <th>1</th>\n",
       "      <td>2</td>\n",
       "      <td>0</td>\n",
       "    </tr>\n",
       "    <tr>\n",
       "      <th>2</th>\n",
       "      <td>3</td>\n",
       "      <td>0</td>\n",
       "    </tr>\n",
       "    <tr>\n",
       "      <th>3</th>\n",
       "      <td>9</td>\n",
       "      <td>0</td>\n",
       "    </tr>\n",
       "    <tr>\n",
       "      <th>4</th>\n",
       "      <td>11</td>\n",
       "      <td>0</td>\n",
       "    </tr>\n",
       "  </tbody>\n",
       "</table>\n",
       "</div>"
      ],
      "text/plain": [
       "   id  target\n",
       "0   0       0\n",
       "1   2       0\n",
       "2   3       0\n",
       "3   9       0\n",
       "4  11       0"
      ]
     },
     "execution_count": 16,
     "metadata": {},
     "output_type": "execute_result"
    }
   ],
   "source": [
    "test_df.head()"
   ]
  },
  {
   "cell_type": "code",
   "execution_count": 17,
   "metadata": {
    "execution": {
     "iopub.execute_input": "2021-01-18T05:18:44.918657Z",
     "iopub.status.busy": "2021-01-18T05:18:44.917846Z",
     "iopub.status.idle": "2021-01-18T05:18:45.178773Z",
     "shell.execute_reply": "2021-01-18T05:18:45.177609Z"
    },
    "papermill": {
     "duration": 1.409241,
     "end_time": "2021-01-18T05:18:45.178879",
     "exception": false,
     "start_time": "2021-01-18T05:18:43.769638",
     "status": "completed"
    },
    "tags": []
   },
   "outputs": [],
   "source": [
    "test_df.to_csv(\"submisssions.csv\", index=False)"
   ]
  },
  {
   "cell_type": "code",
   "execution_count": 18,
   "metadata": {
    "execution": {
     "iopub.execute_input": "2021-01-18T05:18:47.416235Z",
     "iopub.status.busy": "2021-01-18T05:18:47.415429Z",
     "iopub.status.idle": "2021-01-18T05:18:47.419339Z",
     "shell.execute_reply": "2021-01-18T05:18:47.418890Z"
    },
    "papermill": {
     "duration": 1.123322,
     "end_time": "2021-01-18T05:18:47.419474",
     "exception": false,
     "start_time": "2021-01-18T05:18:46.296152",
     "status": "completed"
    },
    "tags": []
   },
   "outputs": [
    {
     "ename": "SyntaxError",
     "evalue": "invalid syntax (<ipython-input-18-f87512eb5e8b>, line 1)",
     "output_type": "error",
     "traceback": [
      "\u001b[0;36m  File \u001b[0;32m\"<ipython-input-18-f87512eb5e8b>\"\u001b[0;36m, line \u001b[0;32m1\u001b[0m\n\u001b[0;31m    ./\u001b[0m\n\u001b[0m    ^\u001b[0m\n\u001b[0;31mSyntaxError\u001b[0m\u001b[0;31m:\u001b[0m invalid syntax\n"
     ]
    }
   ],
   "source": [
    "./"
   ]
  }
 ],
 "metadata": {
  "kernelspec": {
   "display_name": "Python 3",
   "language": "python",
   "name": "python3"
  },
  "language_info": {
   "codemirror_mode": {
    "name": "ipython",
    "version": 3
   },
   "file_extension": ".py",
   "mimetype": "text/x-python",
   "name": "python",
   "nbconvert_exporter": "python",
   "pygments_lexer": "ipython3",
   "version": "3.7.6"
  },
  "papermill": {
   "duration": 3814.513282,
   "end_time": "2021-01-18T05:18:50.168488",
   "environment_variables": {},
   "exception": null,
   "input_path": "__notebook__.ipynb",
   "output_path": "__notebook__.ipynb",
   "parameters": {},
   "start_time": "2021-01-18T04:15:15.655206",
   "version": "2.1.0"
  }
 },
 "nbformat": 4,
 "nbformat_minor": 4
}
